{
 "cells": [
  {
   "cell_type": "markdown",
   "id": "501187e0",
   "metadata": {},
   "source": [
    "# Stellar Classification"
   ]
  },
  {
   "cell_type": "code",
   "execution_count": 1,
   "id": "c220d5fe",
   "metadata": {},
   "outputs": [],
   "source": [
    "import numpy as np\n",
    "import pandas as pd\n",
    "import matplotlib.pyplot as plt\n",
    "import seaborn as sns\n",
    "import os\n",
    "import warnings\n",
    "warnings.filterwarnings(\"ignore\")"
   ]
  },
  {
   "cell_type": "code",
   "execution_count": 2,
   "id": "196ff191",
   "metadata": {},
   "outputs": [
    {
     "data": {
      "text/plain": [
       "(100000, 18)"
      ]
     },
     "execution_count": 2,
     "metadata": {},
     "output_type": "execute_result"
    }
   ],
   "source": [
    "#read in data (assumes csv is in same folder as this notebook)\n",
    "data = pd.read_csv('star_classification.csv')\n",
    "data.shape"
   ]
  },
  {
   "cell_type": "code",
   "execution_count": 3,
   "id": "0aa79019",
   "metadata": {
    "scrolled": true
   },
   "outputs": [
    {
     "data": {
      "text/html": [
       "<div>\n",
       "<style scoped>\n",
       "    .dataframe tbody tr th:only-of-type {\n",
       "        vertical-align: middle;\n",
       "    }\n",
       "\n",
       "    .dataframe tbody tr th {\n",
       "        vertical-align: top;\n",
       "    }\n",
       "\n",
       "    .dataframe thead th {\n",
       "        text-align: right;\n",
       "    }\n",
       "</style>\n",
       "<table border=\"1\" class=\"dataframe\">\n",
       "  <thead>\n",
       "    <tr style=\"text-align: right;\">\n",
       "      <th></th>\n",
       "      <th>obj_ID</th>\n",
       "      <th>alpha</th>\n",
       "      <th>delta</th>\n",
       "      <th>u</th>\n",
       "      <th>g</th>\n",
       "      <th>r</th>\n",
       "      <th>i</th>\n",
       "      <th>z</th>\n",
       "      <th>run_ID</th>\n",
       "      <th>rerun_ID</th>\n",
       "      <th>cam_col</th>\n",
       "      <th>field_ID</th>\n",
       "      <th>spec_obj_ID</th>\n",
       "      <th>class</th>\n",
       "      <th>redshift</th>\n",
       "      <th>plate</th>\n",
       "      <th>MJD</th>\n",
       "      <th>fiber_ID</th>\n",
       "    </tr>\n",
       "  </thead>\n",
       "  <tbody>\n",
       "    <tr>\n",
       "      <th>0</th>\n",
       "      <td>1.237661e+18</td>\n",
       "      <td>135.689107</td>\n",
       "      <td>32.494632</td>\n",
       "      <td>23.87882</td>\n",
       "      <td>22.27530</td>\n",
       "      <td>20.39501</td>\n",
       "      <td>19.16573</td>\n",
       "      <td>18.79371</td>\n",
       "      <td>3606</td>\n",
       "      <td>301</td>\n",
       "      <td>2</td>\n",
       "      <td>79</td>\n",
       "      <td>6.543777e+18</td>\n",
       "      <td>GALAXY</td>\n",
       "      <td>0.634794</td>\n",
       "      <td>5812</td>\n",
       "      <td>56354</td>\n",
       "      <td>171</td>\n",
       "    </tr>\n",
       "    <tr>\n",
       "      <th>1</th>\n",
       "      <td>1.237665e+18</td>\n",
       "      <td>144.826101</td>\n",
       "      <td>31.274185</td>\n",
       "      <td>24.77759</td>\n",
       "      <td>22.83188</td>\n",
       "      <td>22.58444</td>\n",
       "      <td>21.16812</td>\n",
       "      <td>21.61427</td>\n",
       "      <td>4518</td>\n",
       "      <td>301</td>\n",
       "      <td>5</td>\n",
       "      <td>119</td>\n",
       "      <td>1.176014e+19</td>\n",
       "      <td>GALAXY</td>\n",
       "      <td>0.779136</td>\n",
       "      <td>10445</td>\n",
       "      <td>58158</td>\n",
       "      <td>427</td>\n",
       "    </tr>\n",
       "    <tr>\n",
       "      <th>2</th>\n",
       "      <td>1.237661e+18</td>\n",
       "      <td>142.188790</td>\n",
       "      <td>35.582444</td>\n",
       "      <td>25.26307</td>\n",
       "      <td>22.66389</td>\n",
       "      <td>20.60976</td>\n",
       "      <td>19.34857</td>\n",
       "      <td>18.94827</td>\n",
       "      <td>3606</td>\n",
       "      <td>301</td>\n",
       "      <td>2</td>\n",
       "      <td>120</td>\n",
       "      <td>5.152200e+18</td>\n",
       "      <td>GALAXY</td>\n",
       "      <td>0.644195</td>\n",
       "      <td>4576</td>\n",
       "      <td>55592</td>\n",
       "      <td>299</td>\n",
       "    </tr>\n",
       "    <tr>\n",
       "      <th>3</th>\n",
       "      <td>1.237663e+18</td>\n",
       "      <td>338.741038</td>\n",
       "      <td>-0.402828</td>\n",
       "      <td>22.13682</td>\n",
       "      <td>23.77656</td>\n",
       "      <td>21.61162</td>\n",
       "      <td>20.50454</td>\n",
       "      <td>19.25010</td>\n",
       "      <td>4192</td>\n",
       "      <td>301</td>\n",
       "      <td>3</td>\n",
       "      <td>214</td>\n",
       "      <td>1.030107e+19</td>\n",
       "      <td>GALAXY</td>\n",
       "      <td>0.932346</td>\n",
       "      <td>9149</td>\n",
       "      <td>58039</td>\n",
       "      <td>775</td>\n",
       "    </tr>\n",
       "    <tr>\n",
       "      <th>4</th>\n",
       "      <td>1.237680e+18</td>\n",
       "      <td>345.282593</td>\n",
       "      <td>21.183866</td>\n",
       "      <td>19.43718</td>\n",
       "      <td>17.58028</td>\n",
       "      <td>16.49747</td>\n",
       "      <td>15.97711</td>\n",
       "      <td>15.54461</td>\n",
       "      <td>8102</td>\n",
       "      <td>301</td>\n",
       "      <td>3</td>\n",
       "      <td>137</td>\n",
       "      <td>6.891865e+18</td>\n",
       "      <td>GALAXY</td>\n",
       "      <td>0.116123</td>\n",
       "      <td>6121</td>\n",
       "      <td>56187</td>\n",
       "      <td>842</td>\n",
       "    </tr>\n",
       "  </tbody>\n",
       "</table>\n",
       "</div>"
      ],
      "text/plain": [
       "         obj_ID       alpha      delta         u         g         r  \\\n",
       "0  1.237661e+18  135.689107  32.494632  23.87882  22.27530  20.39501   \n",
       "1  1.237665e+18  144.826101  31.274185  24.77759  22.83188  22.58444   \n",
       "2  1.237661e+18  142.188790  35.582444  25.26307  22.66389  20.60976   \n",
       "3  1.237663e+18  338.741038  -0.402828  22.13682  23.77656  21.61162   \n",
       "4  1.237680e+18  345.282593  21.183866  19.43718  17.58028  16.49747   \n",
       "\n",
       "          i         z  run_ID  rerun_ID  cam_col  field_ID   spec_obj_ID  \\\n",
       "0  19.16573  18.79371    3606       301        2        79  6.543777e+18   \n",
       "1  21.16812  21.61427    4518       301        5       119  1.176014e+19   \n",
       "2  19.34857  18.94827    3606       301        2       120  5.152200e+18   \n",
       "3  20.50454  19.25010    4192       301        3       214  1.030107e+19   \n",
       "4  15.97711  15.54461    8102       301        3       137  6.891865e+18   \n",
       "\n",
       "    class  redshift  plate    MJD  fiber_ID  \n",
       "0  GALAXY  0.634794   5812  56354       171  \n",
       "1  GALAXY  0.779136  10445  58158       427  \n",
       "2  GALAXY  0.644195   4576  55592       299  \n",
       "3  GALAXY  0.932346   9149  58039       775  \n",
       "4  GALAXY  0.116123   6121  56187       842  "
      ]
     },
     "execution_count": 3,
     "metadata": {},
     "output_type": "execute_result"
    }
   ],
   "source": [
    "data.head()"
   ]
  },
  {
   "cell_type": "code",
   "execution_count": 4,
   "id": "96384c46",
   "metadata": {},
   "outputs": [],
   "source": [
    "data_dictionary = {\n",
    "    'obj_ID':'Object Identifier', \n",
    "    'alpha':'Right Ascension:the astronomical equivalent of longitude. Right ascension is the angular distance ofan object measured eastward from the First Point of Aries, also called the Vernal Equinox', \n",
    "    'delta': 'Declination: the astronomical equivalent of latitude. Declination is an angular distance of a pointnorth or south of the Celestial Equator, a projection of the Earth’s equator into space. Declination is measured in degrees from -90° to +90°.',\n",
    "    'u': 'Ultraviolet, Effective Wavelength Midpoint λ(eff) = 365nm',\n",
    "    'g': 'Green, Effective Wavelength Midpoint λ(eff) = 464nm',\n",
    "    'r': 'Red, Effective Wavelength Midpoint λ(eff) = 658nm',\n",
    "    'i': 'Infrared, Effective Wavelength Midpoint λ(eff) = 806nm',\n",
    "    'z': 'Z, Effective Wavelength Midpoint λ(eff) = 900nm',\n",
    "    'run_ID': 'Run Number',\n",
    "    'rerun_ID': 'Rerun Number',\n",
    "    'cam_col': 'Camera Column',\n",
    "    'field_ID':'Field Number',\n",
    "    'spec_obj_ID':'Object Identifier',\n",
    "    'class': 'Output Class',\n",
    "    'redshift': 'Red shift is a key concept for astronomers. The term can be understood literally - the wavelength of the light is stretched, so the light is seen as shifted towards the red part of the spectrum.',\n",
    "    'plate': 'Plate Number',\n",
    "    'MJD': 'Modified Julian Date',\n",
    "    'fiber_ID': 'fiber ID'\n",
    "    }"
   ]
  },
  {
   "cell_type": "markdown",
   "id": "1dff3c50",
   "metadata": {},
   "source": [
    "#### Photometric Letters\n",
    "\n",
    "Each letter designates a section of light of the electromagnetic spectrum; these cover well the consecutive major groups, near-ultraviolet (NUV), visible light (centered on the V band), near-infrared (NIR) and part of mid-infrared (MIR).[a]\n",
    "\n",
    "The letters are not standards, but are recognized by common agreement among astronomers and astrophysicists.\n",
    "\n",
    "The use of U,B,V,R,I bands dates from the 1950s, being single-letter abbreviations.[b] With the advent of infrared detectors in the next decade, the J to N bands were labelled following on from near-infrared's closest-to-red band, I. Later the H band was inserted, then Z in the 1990s and finally Y, without changing earlier definitions. Hence, H is out of alphabetical order from its neighbours, while Z,Y are reversed from the alphabetical – higher-wavelength – sub-series which dominates current photometric bands."
   ]
  },
  {
   "cell_type": "code",
   "execution_count": 5,
   "id": "be0f0d4c",
   "metadata": {
    "scrolled": false
   },
   "outputs": [
    {
     "data": {
      "text/html": [
       "<div>\n",
       "<style scoped>\n",
       "    .dataframe tbody tr th:only-of-type {\n",
       "        vertical-align: middle;\n",
       "    }\n",
       "\n",
       "    .dataframe tbody tr th {\n",
       "        vertical-align: top;\n",
       "    }\n",
       "\n",
       "    .dataframe thead th {\n",
       "        text-align: right;\n",
       "    }\n",
       "</style>\n",
       "<table border=\"1\" class=\"dataframe\">\n",
       "  <thead>\n",
       "    <tr style=\"text-align: right;\">\n",
       "      <th></th>\n",
       "      <th>obj_ID</th>\n",
       "      <th>alpha</th>\n",
       "      <th>delta</th>\n",
       "      <th>u</th>\n",
       "      <th>g</th>\n",
       "      <th>r</th>\n",
       "      <th>i</th>\n",
       "      <th>z</th>\n",
       "      <th>run_ID</th>\n",
       "      <th>rerun_ID</th>\n",
       "      <th>cam_col</th>\n",
       "      <th>field_ID</th>\n",
       "      <th>spec_obj_ID</th>\n",
       "      <th>redshift</th>\n",
       "      <th>plate</th>\n",
       "      <th>MJD</th>\n",
       "      <th>fiber_ID</th>\n",
       "    </tr>\n",
       "  </thead>\n",
       "  <tbody>\n",
       "    <tr>\n",
       "      <th>count</th>\n",
       "      <td>1.000000e+05</td>\n",
       "      <td>100000.000000</td>\n",
       "      <td>100000.000000</td>\n",
       "      <td>100000.000000</td>\n",
       "      <td>100000.000000</td>\n",
       "      <td>100000.000000</td>\n",
       "      <td>100000.000000</td>\n",
       "      <td>100000.000000</td>\n",
       "      <td>100000.000000</td>\n",
       "      <td>100000.0</td>\n",
       "      <td>100000.000000</td>\n",
       "      <td>100000.000000</td>\n",
       "      <td>1.000000e+05</td>\n",
       "      <td>100000.000000</td>\n",
       "      <td>100000.000000</td>\n",
       "      <td>100000.000000</td>\n",
       "      <td>100000.000000</td>\n",
       "    </tr>\n",
       "    <tr>\n",
       "      <th>mean</th>\n",
       "      <td>1.237665e+18</td>\n",
       "      <td>177.629117</td>\n",
       "      <td>24.135305</td>\n",
       "      <td>21.980468</td>\n",
       "      <td>20.531387</td>\n",
       "      <td>19.645762</td>\n",
       "      <td>19.084854</td>\n",
       "      <td>18.668810</td>\n",
       "      <td>4481.366060</td>\n",
       "      <td>301.0</td>\n",
       "      <td>3.511610</td>\n",
       "      <td>186.130520</td>\n",
       "      <td>5.783882e+18</td>\n",
       "      <td>0.576661</td>\n",
       "      <td>5137.009660</td>\n",
       "      <td>55588.647500</td>\n",
       "      <td>449.312740</td>\n",
       "    </tr>\n",
       "    <tr>\n",
       "      <th>std</th>\n",
       "      <td>8.438560e+12</td>\n",
       "      <td>96.502241</td>\n",
       "      <td>19.644665</td>\n",
       "      <td>31.769291</td>\n",
       "      <td>31.750292</td>\n",
       "      <td>1.854760</td>\n",
       "      <td>1.757895</td>\n",
       "      <td>31.728152</td>\n",
       "      <td>1964.764593</td>\n",
       "      <td>0.0</td>\n",
       "      <td>1.586912</td>\n",
       "      <td>149.011073</td>\n",
       "      <td>3.324016e+18</td>\n",
       "      <td>0.730707</td>\n",
       "      <td>2952.303351</td>\n",
       "      <td>1808.484233</td>\n",
       "      <td>272.498404</td>\n",
       "    </tr>\n",
       "    <tr>\n",
       "      <th>min</th>\n",
       "      <td>1.237646e+18</td>\n",
       "      <td>0.005528</td>\n",
       "      <td>-18.785328</td>\n",
       "      <td>-9999.000000</td>\n",
       "      <td>-9999.000000</td>\n",
       "      <td>9.822070</td>\n",
       "      <td>9.469903</td>\n",
       "      <td>-9999.000000</td>\n",
       "      <td>109.000000</td>\n",
       "      <td>301.0</td>\n",
       "      <td>1.000000</td>\n",
       "      <td>11.000000</td>\n",
       "      <td>2.995191e+17</td>\n",
       "      <td>-0.009971</td>\n",
       "      <td>266.000000</td>\n",
       "      <td>51608.000000</td>\n",
       "      <td>1.000000</td>\n",
       "    </tr>\n",
       "    <tr>\n",
       "      <th>25%</th>\n",
       "      <td>1.237659e+18</td>\n",
       "      <td>127.518222</td>\n",
       "      <td>5.146771</td>\n",
       "      <td>20.352353</td>\n",
       "      <td>18.965230</td>\n",
       "      <td>18.135828</td>\n",
       "      <td>17.732285</td>\n",
       "      <td>17.460677</td>\n",
       "      <td>3187.000000</td>\n",
       "      <td>301.0</td>\n",
       "      <td>2.000000</td>\n",
       "      <td>82.000000</td>\n",
       "      <td>2.844138e+18</td>\n",
       "      <td>0.054517</td>\n",
       "      <td>2526.000000</td>\n",
       "      <td>54234.000000</td>\n",
       "      <td>221.000000</td>\n",
       "    </tr>\n",
       "    <tr>\n",
       "      <th>50%</th>\n",
       "      <td>1.237663e+18</td>\n",
       "      <td>180.900700</td>\n",
       "      <td>23.645922</td>\n",
       "      <td>22.179135</td>\n",
       "      <td>21.099835</td>\n",
       "      <td>20.125290</td>\n",
       "      <td>19.405145</td>\n",
       "      <td>19.004595</td>\n",
       "      <td>4188.000000</td>\n",
       "      <td>301.0</td>\n",
       "      <td>4.000000</td>\n",
       "      <td>146.000000</td>\n",
       "      <td>5.614883e+18</td>\n",
       "      <td>0.424173</td>\n",
       "      <td>4987.000000</td>\n",
       "      <td>55868.500000</td>\n",
       "      <td>433.000000</td>\n",
       "    </tr>\n",
       "    <tr>\n",
       "      <th>75%</th>\n",
       "      <td>1.237668e+18</td>\n",
       "      <td>233.895005</td>\n",
       "      <td>39.901550</td>\n",
       "      <td>23.687440</td>\n",
       "      <td>22.123767</td>\n",
       "      <td>21.044785</td>\n",
       "      <td>20.396495</td>\n",
       "      <td>19.921120</td>\n",
       "      <td>5326.000000</td>\n",
       "      <td>301.0</td>\n",
       "      <td>5.000000</td>\n",
       "      <td>241.000000</td>\n",
       "      <td>8.332144e+18</td>\n",
       "      <td>0.704154</td>\n",
       "      <td>7400.250000</td>\n",
       "      <td>56777.000000</td>\n",
       "      <td>645.000000</td>\n",
       "    </tr>\n",
       "    <tr>\n",
       "      <th>max</th>\n",
       "      <td>1.237681e+18</td>\n",
       "      <td>359.999810</td>\n",
       "      <td>83.000519</td>\n",
       "      <td>32.781390</td>\n",
       "      <td>31.602240</td>\n",
       "      <td>29.571860</td>\n",
       "      <td>32.141470</td>\n",
       "      <td>29.383740</td>\n",
       "      <td>8162.000000</td>\n",
       "      <td>301.0</td>\n",
       "      <td>6.000000</td>\n",
       "      <td>989.000000</td>\n",
       "      <td>1.412694e+19</td>\n",
       "      <td>7.011245</td>\n",
       "      <td>12547.000000</td>\n",
       "      <td>58932.000000</td>\n",
       "      <td>1000.000000</td>\n",
       "    </tr>\n",
       "  </tbody>\n",
       "</table>\n",
       "</div>"
      ],
      "text/plain": [
       "             obj_ID          alpha          delta              u  \\\n",
       "count  1.000000e+05  100000.000000  100000.000000  100000.000000   \n",
       "mean   1.237665e+18     177.629117      24.135305      21.980468   \n",
       "std    8.438560e+12      96.502241      19.644665      31.769291   \n",
       "min    1.237646e+18       0.005528     -18.785328   -9999.000000   \n",
       "25%    1.237659e+18     127.518222       5.146771      20.352353   \n",
       "50%    1.237663e+18     180.900700      23.645922      22.179135   \n",
       "75%    1.237668e+18     233.895005      39.901550      23.687440   \n",
       "max    1.237681e+18     359.999810      83.000519      32.781390   \n",
       "\n",
       "                   g              r              i              z  \\\n",
       "count  100000.000000  100000.000000  100000.000000  100000.000000   \n",
       "mean       20.531387      19.645762      19.084854      18.668810   \n",
       "std        31.750292       1.854760       1.757895      31.728152   \n",
       "min     -9999.000000       9.822070       9.469903   -9999.000000   \n",
       "25%        18.965230      18.135828      17.732285      17.460677   \n",
       "50%        21.099835      20.125290      19.405145      19.004595   \n",
       "75%        22.123767      21.044785      20.396495      19.921120   \n",
       "max        31.602240      29.571860      32.141470      29.383740   \n",
       "\n",
       "              run_ID  rerun_ID        cam_col       field_ID   spec_obj_ID  \\\n",
       "count  100000.000000  100000.0  100000.000000  100000.000000  1.000000e+05   \n",
       "mean     4481.366060     301.0       3.511610     186.130520  5.783882e+18   \n",
       "std      1964.764593       0.0       1.586912     149.011073  3.324016e+18   \n",
       "min       109.000000     301.0       1.000000      11.000000  2.995191e+17   \n",
       "25%      3187.000000     301.0       2.000000      82.000000  2.844138e+18   \n",
       "50%      4188.000000     301.0       4.000000     146.000000  5.614883e+18   \n",
       "75%      5326.000000     301.0       5.000000     241.000000  8.332144e+18   \n",
       "max      8162.000000     301.0       6.000000     989.000000  1.412694e+19   \n",
       "\n",
       "            redshift          plate            MJD       fiber_ID  \n",
       "count  100000.000000  100000.000000  100000.000000  100000.000000  \n",
       "mean        0.576661    5137.009660   55588.647500     449.312740  \n",
       "std         0.730707    2952.303351    1808.484233     272.498404  \n",
       "min        -0.009971     266.000000   51608.000000       1.000000  \n",
       "25%         0.054517    2526.000000   54234.000000     221.000000  \n",
       "50%         0.424173    4987.000000   55868.500000     433.000000  \n",
       "75%         0.704154    7400.250000   56777.000000     645.000000  \n",
       "max         7.011245   12547.000000   58932.000000    1000.000000  "
      ]
     },
     "metadata": {},
     "output_type": "display_data"
    },
    {
     "name": "stdout",
     "output_type": "stream",
     "text": [
      "<class 'pandas.core.frame.DataFrame'>\n",
      "RangeIndex: 100000 entries, 0 to 99999\n",
      "Data columns (total 18 columns):\n",
      " #   Column       Non-Null Count   Dtype  \n",
      "---  ------       --------------   -----  \n",
      " 0   obj_ID       100000 non-null  float64\n",
      " 1   alpha        100000 non-null  float64\n",
      " 2   delta        100000 non-null  float64\n",
      " 3   u            100000 non-null  float64\n",
      " 4   g            100000 non-null  float64\n",
      " 5   r            100000 non-null  float64\n",
      " 6   i            100000 non-null  float64\n",
      " 7   z            100000 non-null  float64\n",
      " 8   run_ID       100000 non-null  int64  \n",
      " 9   rerun_ID     100000 non-null  int64  \n",
      " 10  cam_col      100000 non-null  int64  \n",
      " 11  field_ID     100000 non-null  int64  \n",
      " 12  spec_obj_ID  100000 non-null  float64\n",
      " 13  class        100000 non-null  object \n",
      " 14  redshift     100000 non-null  float64\n",
      " 15  plate        100000 non-null  int64  \n",
      " 16  MJD          100000 non-null  int64  \n",
      " 17  fiber_ID     100000 non-null  int64  \n",
      "dtypes: float64(10), int64(7), object(1)\n",
      "memory usage: 13.7+ MB\n"
     ]
    },
    {
     "data": {
      "text/plain": [
       "None"
      ]
     },
     "metadata": {},
     "output_type": "display_data"
    }
   ],
   "source": [
    "display(data.describe())\n",
    "display(data.info())"
   ]
  },
  {
   "cell_type": "code",
   "execution_count": 6,
   "id": "3139c570",
   "metadata": {},
   "outputs": [],
   "source": [
    "#Drop ID related columns\n",
    "id_cols = ['rerun_ID','obj_ID','run_ID','field_ID','fiber_ID','spec_obj_ID']\n",
    "data = data.drop(id_cols, axis = 1)"
   ]
  },
  {
   "cell_type": "code",
   "execution_count": 7,
   "id": "49916792",
   "metadata": {
    "scrolled": false
   },
   "outputs": [
    {
     "data": {
      "text/plain": [
       "array([[<AxesSubplot:title={'center':'alpha'}>,\n",
       "        <AxesSubplot:title={'center':'delta'}>,\n",
       "        <AxesSubplot:title={'center':'u'}>],\n",
       "       [<AxesSubplot:title={'center':'g'}>,\n",
       "        <AxesSubplot:title={'center':'r'}>,\n",
       "        <AxesSubplot:title={'center':'i'}>],\n",
       "       [<AxesSubplot:title={'center':'z'}>,\n",
       "        <AxesSubplot:title={'center':'cam_col'}>,\n",
       "        <AxesSubplot:title={'center':'redshift'}>],\n",
       "       [<AxesSubplot:title={'center':'plate'}>,\n",
       "        <AxesSubplot:title={'center':'MJD'}>, <AxesSubplot:>]],\n",
       "      dtype=object)"
      ]
     },
     "execution_count": 7,
     "metadata": {},
     "output_type": "execute_result"
    },
    {
     "data": {
      "image/png": "[encoded data removed]",
      "text/plain": [
       "<Figure size 1296x864 with 12 Axes>"
      ]
     },
     "metadata": {
      "needs_background": "light"
     },
     "output_type": "display_data"
    }
   ],
   "source": [
    "data.hist(figsize=(18,12))"
   ]
  },
  {
   "cell_type": "code",
   "execution_count": 8,
   "id": "35b851b5",
   "metadata": {},
   "outputs": [
    {
     "data": {
      "text/html": [
       "<style type=\"text/css\">\n",
       "#T_b0d9f_row0_col0, #T_b0d9f_row1_col1, #T_b0d9f_row2_col2, #T_b0d9f_row2_col3, #T_b0d9f_row2_col6, #T_b0d9f_row3_col2, #T_b0d9f_row3_col3, #T_b0d9f_row3_col6, #T_b0d9f_row4_col4, #T_b0d9f_row5_col5, #T_b0d9f_row6_col2, #T_b0d9f_row6_col3, #T_b0d9f_row6_col6, #T_b0d9f_row7_col7, #T_b0d9f_row8_col8, #T_b0d9f_row9_col9, #T_b0d9f_row10_col10 {\n",
       "  background-color: #b40426;\n",
       "  color: #f1f1f1;\n",
       "}\n",
       "#T_b0d9f_row0_col1 {\n",
       "  background-color: #688aef;\n",
       "  color: #f1f1f1;\n",
       "}\n",
       "#T_b0d9f_row0_col2, #T_b0d9f_row0_col3, #T_b0d9f_row0_col4, #T_b0d9f_row0_col5, #T_b0d9f_row0_col6, #T_b0d9f_row0_col8, #T_b0d9f_row0_col9, #T_b0d9f_row1_col2, #T_b0d9f_row4_col0, #T_b0d9f_row4_col1, #T_b0d9f_row5_col0, #T_b0d9f_row5_col1, #T_b0d9f_row7_col8, #T_b0d9f_row7_col9, #T_b0d9f_row7_col10, #T_b0d9f_row10_col7 {\n",
       "  background-color: #3b4cc0;\n",
       "  color: #f1f1f1;\n",
       "}\n",
       "#T_b0d9f_row0_col7, #T_b0d9f_row0_col10, #T_b0d9f_row8_col0, #T_b0d9f_row8_col3 {\n",
       "  background-color: #4257c9;\n",
       "  color: #f1f1f1;\n",
       "}\n",
       "#T_b0d9f_row1_col0 {\n",
       "  background-color: #6c8ff1;\n",
       "  color: #f1f1f1;\n",
       "}\n",
       "#T_b0d9f_row1_col3, #T_b0d9f_row1_col6, #T_b0d9f_row7_col2, #T_b0d9f_row7_col3, #T_b0d9f_row7_col6, #T_b0d9f_row8_col7, #T_b0d9f_row9_col7 {\n",
       "  background-color: #3c4ec2;\n",
       "  color: #f1f1f1;\n",
       "}\n",
       "#T_b0d9f_row1_col4, #T_b0d9f_row2_col8, #T_b0d9f_row4_col7, #T_b0d9f_row5_col7 {\n",
       "  background-color: #3e51c5;\n",
       "  color: #f1f1f1;\n",
       "}\n",
       "#T_b0d9f_row1_col5, #T_b0d9f_row8_col2 {\n",
       "  background-color: #3f53c6;\n",
       "  color: #f1f1f1;\n",
       "}\n",
       "#T_b0d9f_row1_col7, #T_b0d9f_row2_col10, #T_b0d9f_row8_col1 {\n",
       "  background-color: #455cce;\n",
       "  color: #f1f1f1;\n",
       "}\n",
       "#T_b0d9f_row1_col8, #T_b0d9f_row2_col9, #T_b0d9f_row8_col6, #T_b0d9f_row9_col2, #T_b0d9f_row10_col2 {\n",
       "  background-color: #445acc;\n",
       "  color: #f1f1f1;\n",
       "}\n",
       "#T_b0d9f_row1_col9, #T_b0d9f_row1_col10, #T_b0d9f_row10_col1 {\n",
       "  background-color: #5e7de7;\n",
       "  color: #f1f1f1;\n",
       "}\n",
       "#T_b0d9f_row2_col0, #T_b0d9f_row3_col0, #T_b0d9f_row3_col8, #T_b0d9f_row6_col0, #T_b0d9f_row9_col0 {\n",
       "  background-color: #4055c8;\n",
       "  color: #f1f1f1;\n",
       "}\n",
       "#T_b0d9f_row2_col1, #T_b0d9f_row2_col7, #T_b0d9f_row3_col1, #T_b0d9f_row3_col7, #T_b0d9f_row6_col1, #T_b0d9f_row6_col7 {\n",
       "  background-color: #3d50c3;\n",
       "  color: #f1f1f1;\n",
       "}\n",
       "#T_b0d9f_row2_col4, #T_b0d9f_row3_col5, #T_b0d9f_row6_col5 {\n",
       "  background-color: #516ddb;\n",
       "  color: #f1f1f1;\n",
       "}\n",
       "#T_b0d9f_row2_col5 {\n",
       "  background-color: #4f69d9;\n",
       "  color: #f1f1f1;\n",
       "}\n",
       "#T_b0d9f_row3_col4 {\n",
       "  background-color: #5470de;\n",
       "  color: #f1f1f1;\n",
       "}\n",
       "#T_b0d9f_row3_col9, #T_b0d9f_row6_col9, #T_b0d9f_row7_col0, #T_b0d9f_row7_col1, #T_b0d9f_row9_col3, #T_b0d9f_row9_col6, #T_b0d9f_row10_col0, #T_b0d9f_row10_col3, #T_b0d9f_row10_col6 {\n",
       "  background-color: #465ecf;\n",
       "  color: #f1f1f1;\n",
       "}\n",
       "#T_b0d9f_row3_col10, #T_b0d9f_row6_col10 {\n",
       "  background-color: #485fd1;\n",
       "  color: #f1f1f1;\n",
       "}\n",
       "#T_b0d9f_row4_col2, #T_b0d9f_row4_col6, #T_b0d9f_row5_col3 {\n",
       "  background-color: #4b64d5;\n",
       "  color: #f1f1f1;\n",
       "}\n",
       "#T_b0d9f_row4_col3 {\n",
       "  background-color: #4e68d8;\n",
       "  color: #f1f1f1;\n",
       "}\n",
       "#T_b0d9f_row4_col5, #T_b0d9f_row5_col4 {\n",
       "  background-color: #c12b30;\n",
       "  color: #f1f1f1;\n",
       "}\n",
       "#T_b0d9f_row4_col8 {\n",
       "  background-color: #cad8ef;\n",
       "  color: #000000;\n",
       "}\n",
       "#T_b0d9f_row4_col9 {\n",
       "  background-color: #f7bca1;\n",
       "  color: #000000;\n",
       "}\n",
       "#T_b0d9f_row4_col10, #T_b0d9f_row5_col10 {\n",
       "  background-color: #f7b599;\n",
       "  color: #000000;\n",
       "}\n",
       "#T_b0d9f_row5_col2 {\n",
       "  background-color: #4961d2;\n",
       "  color: #f1f1f1;\n",
       "}\n",
       "#T_b0d9f_row5_col6 {\n",
       "  background-color: #4c66d6;\n",
       "  color: #f1f1f1;\n",
       "}\n",
       "#T_b0d9f_row5_col8 {\n",
       "  background-color: #dbdcde;\n",
       "  color: #000000;\n",
       "}\n",
       "#T_b0d9f_row5_col9, #T_b0d9f_row9_col4 {\n",
       "  background-color: #f7b99e;\n",
       "  color: #000000;\n",
       "}\n",
       "#T_b0d9f_row6_col4 {\n",
       "  background-color: #506bda;\n",
       "  color: #f1f1f1;\n",
       "}\n",
       "#T_b0d9f_row6_col8, #T_b0d9f_row7_col4, #T_b0d9f_row7_col5 {\n",
       "  background-color: #4358cb;\n",
       "  color: #f1f1f1;\n",
       "}\n",
       "#T_b0d9f_row8_col4 {\n",
       "  background-color: #cedaeb;\n",
       "  color: #000000;\n",
       "}\n",
       "#T_b0d9f_row8_col5 {\n",
       "  background-color: #dedcdb;\n",
       "  color: #000000;\n",
       "}\n",
       "#T_b0d9f_row8_col9, #T_b0d9f_row9_col8, #T_b0d9f_row10_col8 {\n",
       "  background-color: #bcd2f7;\n",
       "  color: #000000;\n",
       "}\n",
       "#T_b0d9f_row8_col10 {\n",
       "  background-color: #bed2f6;\n",
       "  color: #000000;\n",
       "}\n",
       "#T_b0d9f_row9_col1 {\n",
       "  background-color: #5f7fe8;\n",
       "  color: #f1f1f1;\n",
       "}\n",
       "#T_b0d9f_row9_col5 {\n",
       "  background-color: #f7b79b;\n",
       "  color: #000000;\n",
       "}\n",
       "#T_b0d9f_row9_col10, #T_b0d9f_row10_col9 {\n",
       "  background-color: #be242e;\n",
       "  color: #f1f1f1;\n",
       "}\n",
       "#T_b0d9f_row10_col4 {\n",
       "  background-color: #f7b497;\n",
       "  color: #000000;\n",
       "}\n",
       "#T_b0d9f_row10_col5 {\n",
       "  background-color: #f7b396;\n",
       "  color: #000000;\n",
       "}\n",
       "</style>\n",
       "<table id=\"T_b0d9f_\">\n",
       "  <thead>\n",
       "    <tr>\n",
       "      <th class=\"blank level0\" >&nbsp;</th>\n",
       "      <th class=\"col_heading level0 col0\" >alpha</th>\n",
       "      <th class=\"col_heading level0 col1\" >delta</th>\n",
       "      <th class=\"col_heading level0 col2\" >u</th>\n",
       "      <th class=\"col_heading level0 col3\" >g</th>\n",
       "      <th class=\"col_heading level0 col4\" >r</th>\n",
       "      <th class=\"col_heading level0 col5\" >i</th>\n",
       "      <th class=\"col_heading level0 col6\" >z</th>\n",
       "      <th class=\"col_heading level0 col7\" >cam_col</th>\n",
       "      <th class=\"col_heading level0 col8\" >redshift</th>\n",
       "      <th class=\"col_heading level0 col9\" >plate</th>\n",
       "      <th class=\"col_heading level0 col10\" >MJD</th>\n",
       "    </tr>\n",
       "  </thead>\n",
       "  <tbody>\n",
       "    <tr>\n",
       "      <th id=\"T_b0d9f_level0_row0\" class=\"row_heading level0 row0\" >alpha</th>\n",
       "      <td id=\"T_b0d9f_row0_col0\" class=\"data row0 col0\" >1.000000</td>\n",
       "      <td id=\"T_b0d9f_row0_col1\" class=\"data row0 col1\" >0.138691</td>\n",
       "      <td id=\"T_b0d9f_row0_col2\" class=\"data row0 col2\" >-0.001532</td>\n",
       "      <td id=\"T_b0d9f_row0_col3\" class=\"data row0 col3\" >-0.002423</td>\n",
       "      <td id=\"T_b0d9f_row0_col4\" class=\"data row0 col4\" >-0.022083</td>\n",
       "      <td id=\"T_b0d9f_row0_col5\" class=\"data row0 col5\" >-0.023580</td>\n",
       "      <td id=\"T_b0d9f_row0_col6\" class=\"data row0 col6\" >-0.002918</td>\n",
       "      <td id=\"T_b0d9f_row0_col7\" class=\"data row0 col7\" >0.019582</td>\n",
       "      <td id=\"T_b0d9f_row0_col8\" class=\"data row0 col8\" >0.001667</td>\n",
       "      <td id=\"T_b0d9f_row0_col9\" class=\"data row0 col9\" >-0.002554</td>\n",
       "      <td id=\"T_b0d9f_row0_col10\" class=\"data row0 col10\" >0.019943</td>\n",
       "    </tr>\n",
       "    <tr>\n",
       "      <th id=\"T_b0d9f_level0_row1\" class=\"row_heading level0 row1\" >delta</th>\n",
       "      <td id=\"T_b0d9f_row1_col0\" class=\"data row1 col0\" >0.138691</td>\n",
       "      <td id=\"T_b0d9f_row1_col1\" class=\"data row1 col1\" >1.000000</td>\n",
       "      <td id=\"T_b0d9f_row1_col2\" class=\"data row1 col2\" >0.002074</td>\n",
       "      <td id=\"T_b0d9f_row1_col3\" class=\"data row1 col3\" >0.003523</td>\n",
       "      <td id=\"T_b0d9f_row1_col4\" class=\"data row1 col4\" >-0.006835</td>\n",
       "      <td id=\"T_b0d9f_row1_col5\" class=\"data row1 col5\" >-0.004480</td>\n",
       "      <td id=\"T_b0d9f_row1_col6\" class=\"data row1 col6\" >0.003630</td>\n",
       "      <td id=\"T_b0d9f_row1_col7\" class=\"data row1 col7\" >0.032565</td>\n",
       "      <td id=\"T_b0d9f_row1_col8\" class=\"data row1 col8\" >0.031638</td>\n",
       "      <td id=\"T_b0d9f_row1_col9\" class=\"data row1 col9\" >0.112329</td>\n",
       "      <td id=\"T_b0d9f_row1_col10\" class=\"data row1 col10\" >0.107333</td>\n",
       "    </tr>\n",
       "    <tr>\n",
       "      <th id=\"T_b0d9f_level0_row2\" class=\"row_heading level0 row2\" >u</th>\n",
       "      <td id=\"T_b0d9f_row2_col0\" class=\"data row2 col0\" >-0.001532</td>\n",
       "      <td id=\"T_b0d9f_row2_col1\" class=\"data row2 col1\" >0.002074</td>\n",
       "      <td id=\"T_b0d9f_row2_col2\" class=\"data row2 col2\" >1.000000</td>\n",
       "      <td id=\"T_b0d9f_row2_col3\" class=\"data row2 col3\" >0.999311</td>\n",
       "      <td id=\"T_b0d9f_row2_col4\" class=\"data row2 col4\" >0.054149</td>\n",
       "      <td id=\"T_b0d9f_row2_col5\" class=\"data row2 col5\" >0.045730</td>\n",
       "      <td id=\"T_b0d9f_row2_col6\" class=\"data row2 col6\" >0.998093</td>\n",
       "      <td id=\"T_b0d9f_row2_col7\" class=\"data row2 col7\" >0.003548</td>\n",
       "      <td id=\"T_b0d9f_row2_col8\" class=\"data row2 col8\" >0.014309</td>\n",
       "      <td id=\"T_b0d9f_row2_col9\" class=\"data row2 col9\" >0.029997</td>\n",
       "      <td id=\"T_b0d9f_row2_col10\" class=\"data row2 col10\" >0.031997</td>\n",
       "    </tr>\n",
       "    <tr>\n",
       "      <th id=\"T_b0d9f_level0_row3\" class=\"row_heading level0 row3\" >g</th>\n",
       "      <td id=\"T_b0d9f_row3_col0\" class=\"data row3 col0\" >-0.002423</td>\n",
       "      <td id=\"T_b0d9f_row3_col1\" class=\"data row3 col1\" >0.003523</td>\n",
       "      <td id=\"T_b0d9f_row3_col2\" class=\"data row3 col2\" >0.999311</td>\n",
       "      <td id=\"T_b0d9f_row3_col3\" class=\"data row3 col3\" >1.000000</td>\n",
       "      <td id=\"T_b0d9f_row3_col4\" class=\"data row3 col4\" >0.062387</td>\n",
       "      <td id=\"T_b0d9f_row3_col5\" class=\"data row3 col5\" >0.056271</td>\n",
       "      <td id=\"T_b0d9f_row3_col6\" class=\"data row3 col6\" >0.999161</td>\n",
       "      <td id=\"T_b0d9f_row3_col7\" class=\"data row3 col7\" >0.003508</td>\n",
       "      <td id=\"T_b0d9f_row3_col8\" class=\"data row3 col8\" >0.022954</td>\n",
       "      <td id=\"T_b0d9f_row3_col9\" class=\"data row3 col9\" >0.039443</td>\n",
       "      <td id=\"T_b0d9f_row3_col10\" class=\"data row3 col10\" >0.040274</td>\n",
       "    </tr>\n",
       "    <tr>\n",
       "      <th id=\"T_b0d9f_level0_row4\" class=\"row_heading level0 row4\" >r</th>\n",
       "      <td id=\"T_b0d9f_row4_col0\" class=\"data row4 col0\" >-0.022083</td>\n",
       "      <td id=\"T_b0d9f_row4_col1\" class=\"data row4 col1\" >-0.006835</td>\n",
       "      <td id=\"T_b0d9f_row4_col2\" class=\"data row4 col2\" >0.054149</td>\n",
       "      <td id=\"T_b0d9f_row4_col3\" class=\"data row4 col3\" >0.062387</td>\n",
       "      <td id=\"T_b0d9f_row4_col4\" class=\"data row4 col4\" >1.000000</td>\n",
       "      <td id=\"T_b0d9f_row4_col5\" class=\"data row4 col5\" >0.962868</td>\n",
       "      <td id=\"T_b0d9f_row4_col6\" class=\"data row4 col6\" >0.053677</td>\n",
       "      <td id=\"T_b0d9f_row4_col7\" class=\"data row4 col7\" >0.008480</td>\n",
       "      <td id=\"T_b0d9f_row4_col8\" class=\"data row4 col8\" >0.433241</td>\n",
       "      <td id=\"T_b0d9f_row4_col9\" class=\"data row4 col9\" >0.655243</td>\n",
       "      <td id=\"T_b0d9f_row4_col10\" class=\"data row4 col10\" >0.671180</td>\n",
       "    </tr>\n",
       "    <tr>\n",
       "      <th id=\"T_b0d9f_level0_row5\" class=\"row_heading level0 row5\" >i</th>\n",
       "      <td id=\"T_b0d9f_row5_col0\" class=\"data row5 col0\" >-0.023580</td>\n",
       "      <td id=\"T_b0d9f_row5_col1\" class=\"data row5 col1\" >-0.004480</td>\n",
       "      <td id=\"T_b0d9f_row5_col2\" class=\"data row5 col2\" >0.045730</td>\n",
       "      <td id=\"T_b0d9f_row5_col3\" class=\"data row5 col3\" >0.056271</td>\n",
       "      <td id=\"T_b0d9f_row5_col4\" class=\"data row5 col4\" >0.962868</td>\n",
       "      <td id=\"T_b0d9f_row5_col5\" class=\"data row5 col5\" >1.000000</td>\n",
       "      <td id=\"T_b0d9f_row5_col6\" class=\"data row5 col6\" >0.055994</td>\n",
       "      <td id=\"T_b0d9f_row5_col7\" class=\"data row5 col7\" >0.007615</td>\n",
       "      <td id=\"T_b0d9f_row5_col8\" class=\"data row5 col8\" >0.492383</td>\n",
       "      <td id=\"T_b0d9f_row5_col9\" class=\"data row5 col9\" >0.661640</td>\n",
       "      <td id=\"T_b0d9f_row5_col10\" class=\"data row5 col10\" >0.672523</td>\n",
       "    </tr>\n",
       "    <tr>\n",
       "      <th id=\"T_b0d9f_level0_row6\" class=\"row_heading level0 row6\" >z</th>\n",
       "      <td id=\"T_b0d9f_row6_col0\" class=\"data row6 col0\" >-0.002918</td>\n",
       "      <td id=\"T_b0d9f_row6_col1\" class=\"data row6 col1\" >0.003630</td>\n",
       "      <td id=\"T_b0d9f_row6_col2\" class=\"data row6 col2\" >0.998093</td>\n",
       "      <td id=\"T_b0d9f_row6_col3\" class=\"data row6 col3\" >0.999161</td>\n",
       "      <td id=\"T_b0d9f_row6_col4\" class=\"data row6 col4\" >0.053677</td>\n",
       "      <td id=\"T_b0d9f_row6_col5\" class=\"data row6 col5\" >0.055994</td>\n",
       "      <td id=\"T_b0d9f_row6_col6\" class=\"data row6 col6\" >1.000000</td>\n",
       "      <td id=\"T_b0d9f_row6_col7\" class=\"data row6 col7\" >0.003365</td>\n",
       "      <td id=\"T_b0d9f_row6_col8\" class=\"data row6 col8\" >0.030380</td>\n",
       "      <td id=\"T_b0d9f_row6_col9\" class=\"data row6 col9\" >0.037813</td>\n",
       "      <td id=\"T_b0d9f_row6_col10\" class=\"data row6 col10\" >0.037469</td>\n",
       "    </tr>\n",
       "    <tr>\n",
       "      <th id=\"T_b0d9f_level0_row7\" class=\"row_heading level0 row7\" >cam_col</th>\n",
       "      <td id=\"T_b0d9f_row7_col0\" class=\"data row7 col0\" >0.019582</td>\n",
       "      <td id=\"T_b0d9f_row7_col1\" class=\"data row7 col1\" >0.032565</td>\n",
       "      <td id=\"T_b0d9f_row7_col2\" class=\"data row7 col2\" >0.003548</td>\n",
       "      <td id=\"T_b0d9f_row7_col3\" class=\"data row7 col3\" >0.003508</td>\n",
       "      <td id=\"T_b0d9f_row7_col4\" class=\"data row7 col4\" >0.008480</td>\n",
       "      <td id=\"T_b0d9f_row7_col5\" class=\"data row7 col5\" >0.007615</td>\n",
       "      <td id=\"T_b0d9f_row7_col6\" class=\"data row7 col6\" >0.003365</td>\n",
       "      <td id=\"T_b0d9f_row7_col7\" class=\"data row7 col7\" >1.000000</td>\n",
       "      <td id=\"T_b0d9f_row7_col8\" class=\"data row7 col8\" >0.000097</td>\n",
       "      <td id=\"T_b0d9f_row7_col9\" class=\"data row7 col9\" >-0.001949</td>\n",
       "      <td id=\"T_b0d9f_row7_col10\" class=\"data row7 col10\" >-0.006745</td>\n",
       "    </tr>\n",
       "    <tr>\n",
       "      <th id=\"T_b0d9f_level0_row8\" class=\"row_heading level0 row8\" >redshift</th>\n",
       "      <td id=\"T_b0d9f_row8_col0\" class=\"data row8 col0\" >0.001667</td>\n",
       "      <td id=\"T_b0d9f_row8_col1\" class=\"data row8 col1\" >0.031638</td>\n",
       "      <td id=\"T_b0d9f_row8_col2\" class=\"data row8 col2\" >0.014309</td>\n",
       "      <td id=\"T_b0d9f_row8_col3\" class=\"data row8 col3\" >0.022954</td>\n",
       "      <td id=\"T_b0d9f_row8_col4\" class=\"data row8 col4\" >0.433241</td>\n",
       "      <td id=\"T_b0d9f_row8_col5\" class=\"data row8 col5\" >0.492383</td>\n",
       "      <td id=\"T_b0d9f_row8_col6\" class=\"data row8 col6\" >0.030380</td>\n",
       "      <td id=\"T_b0d9f_row8_col7\" class=\"data row8 col7\" >0.000097</td>\n",
       "      <td id=\"T_b0d9f_row8_col8\" class=\"data row8 col8\" >1.000000</td>\n",
       "      <td id=\"T_b0d9f_row8_col9\" class=\"data row8 col9\" >0.388641</td>\n",
       "      <td id=\"T_b0d9f_row8_col10\" class=\"data row8 col10\" >0.387109</td>\n",
       "    </tr>\n",
       "    <tr>\n",
       "      <th id=\"T_b0d9f_level0_row9\" class=\"row_heading level0 row9\" >plate</th>\n",
       "      <td id=\"T_b0d9f_row9_col0\" class=\"data row9 col0\" >-0.002554</td>\n",
       "      <td id=\"T_b0d9f_row9_col1\" class=\"data row9 col1\" >0.112329</td>\n",
       "      <td id=\"T_b0d9f_row9_col2\" class=\"data row9 col2\" >0.029997</td>\n",
       "      <td id=\"T_b0d9f_row9_col3\" class=\"data row9 col3\" >0.039443</td>\n",
       "      <td id=\"T_b0d9f_row9_col4\" class=\"data row9 col4\" >0.655243</td>\n",
       "      <td id=\"T_b0d9f_row9_col5\" class=\"data row9 col5\" >0.661640</td>\n",
       "      <td id=\"T_b0d9f_row9_col6\" class=\"data row9 col6\" >0.037813</td>\n",
       "      <td id=\"T_b0d9f_row9_col7\" class=\"data row9 col7\" >-0.001949</td>\n",
       "      <td id=\"T_b0d9f_row9_col8\" class=\"data row9 col8\" >0.388641</td>\n",
       "      <td id=\"T_b0d9f_row9_col9\" class=\"data row9 col9\" >1.000000</td>\n",
       "      <td id=\"T_b0d9f_row9_col10\" class=\"data row9 col10\" >0.970166</td>\n",
       "    </tr>\n",
       "    <tr>\n",
       "      <th id=\"T_b0d9f_level0_row10\" class=\"row_heading level0 row10\" >MJD</th>\n",
       "      <td id=\"T_b0d9f_row10_col0\" class=\"data row10 col0\" >0.019943</td>\n",
       "      <td id=\"T_b0d9f_row10_col1\" class=\"data row10 col1\" >0.107333</td>\n",
       "      <td id=\"T_b0d9f_row10_col2\" class=\"data row10 col2\" >0.031997</td>\n",
       "      <td id=\"T_b0d9f_row10_col3\" class=\"data row10 col3\" >0.040274</td>\n",
       "      <td id=\"T_b0d9f_row10_col4\" class=\"data row10 col4\" >0.671180</td>\n",
       "      <td id=\"T_b0d9f_row10_col5\" class=\"data row10 col5\" >0.672523</td>\n",
       "      <td id=\"T_b0d9f_row10_col6\" class=\"data row10 col6\" >0.037469</td>\n",
       "      <td id=\"T_b0d9f_row10_col7\" class=\"data row10 col7\" >-0.006745</td>\n",
       "      <td id=\"T_b0d9f_row10_col8\" class=\"data row10 col8\" >0.387109</td>\n",
       "      <td id=\"T_b0d9f_row10_col9\" class=\"data row10 col9\" >0.970166</td>\n",
       "      <td id=\"T_b0d9f_row10_col10\" class=\"data row10 col10\" >1.000000</td>\n",
       "    </tr>\n",
       "  </tbody>\n",
       "</table>\n"
      ],
      "text/plain": [
       "<pandas.io.formats.style.Styler at 0x23d782a03d0>"
      ]
     },
     "execution_count": 8,
     "metadata": {},
     "output_type": "execute_result"
    }
   ],
   "source": [
    "corr = data.corr()\n",
    "corr.style.background_gradient(cmap='coolwarm')"
   ]
  },
  {
   "cell_type": "code",
   "execution_count": 9,
   "id": "77ace2fa",
   "metadata": {
    "scrolled": false
   },
   "outputs": [
    {
     "data": {
      "text/plain": [
       "<Figure size 432x288 with 0 Axes>"
      ]
     },
     "metadata": {},
     "output_type": "display_data"
    },
    {
     "data": {
      "image/png": "[encoded data removed]",
      "text/plain": [
       "<Figure size 864x864 with 2 Axes>"
      ]
     },
     "metadata": {
      "needs_background": "light"
     },
     "output_type": "display_data"
    }
   ],
   "source": [
    "def corr_chart(df_corr):\n",
    "    corr=df_corr.corr()\n",
    "    #screen top half to get a triangle\n",
    "    top = np.zeros_like(corr, dtype=np.bool)\n",
    "    top[np.triu_indices_from(top)] = True\n",
    "    fig=plt.figure()\n",
    "    fig, ax = plt.subplots(figsize=(12,12))\n",
    "    sns.heatmap(corr, mask=top, cmap='coolwarm', \n",
    "        center = 0, square=True, \n",
    "        linewidths=.5, cbar_kws={'shrink':.5}, \n",
    "        annot = True, annot_kws={'size': 9}, fmt = '.3f')           \n",
    "    plt.xticks(rotation=45) # rotate variable labels on columns (x axis)\n",
    "    plt.yticks(rotation=0) # use horizontal variable labels on rows (y axis)\n",
    "    plt.title('Correlation Heat Map')   \n",
    "    plt.savefig('plot-corr-map.pdf', \n",
    "        bbox_inches = 'tight', dpi=None, facecolor='w', edgecolor='b', \n",
    "        orientation='portrait', papertype=None, format=None, \n",
    "        transparent=True, pad_inches=0.25, frameon=None)      \n",
    "\n",
    "np.set_printoptions(precision=3)\n",
    "\n",
    "# examine correlations\n",
    "corr_chart(df_corr = data) "
   ]
  },
  {
   "cell_type": "code",
   "execution_count": 10,
   "id": "ea5fbdd1",
   "metadata": {},
   "outputs": [
    {
     "data": {
      "text/plain": [
       "<AxesSubplot:xlabel='class', ylabel='count'>"
      ]
     },
     "execution_count": 10,
     "metadata": {},
     "output_type": "execute_result"
    },
    {
     "data": {
      "image/png": "[encoded data removed]",
      "text/plain": [
       "<Figure size 432x288 with 1 Axes>"
      ]
     },
     "metadata": {
      "needs_background": "light"
     },
     "output_type": "display_data"
    }
   ],
   "source": [
    "sns.countplot(x = 'class', data = data)"
   ]
  },
  {
   "cell_type": "code",
   "execution_count": 11,
   "id": "13072403",
   "metadata": {
    "scrolled": false
   },
   "outputs": [
    {
     "data": {
      "text/html": [
       "<div>\n",
       "<style scoped>\n",
       "    .dataframe tbody tr th:only-of-type {\n",
       "        vertical-align: middle;\n",
       "    }\n",
       "\n",
       "    .dataframe tbody tr th {\n",
       "        vertical-align: top;\n",
       "    }\n",
       "\n",
       "    .dataframe thead th {\n",
       "        text-align: right;\n",
       "    }\n",
       "</style>\n",
       "<table border=\"1\" class=\"dataframe\">\n",
       "  <thead>\n",
       "    <tr style=\"text-align: right;\">\n",
       "      <th></th>\n",
       "      <th>u</th>\n",
       "      <th>g</th>\n",
       "      <th>r</th>\n",
       "      <th>i</th>\n",
       "      <th>z</th>\n",
       "    </tr>\n",
       "  </thead>\n",
       "  <tbody>\n",
       "    <tr>\n",
       "      <th>count</th>\n",
       "      <td>100000.000000</td>\n",
       "      <td>100000.000000</td>\n",
       "      <td>100000.000000</td>\n",
       "      <td>100000.000000</td>\n",
       "      <td>100000.000000</td>\n",
       "    </tr>\n",
       "    <tr>\n",
       "      <th>mean</th>\n",
       "      <td>21.980468</td>\n",
       "      <td>20.531387</td>\n",
       "      <td>19.645762</td>\n",
       "      <td>19.084854</td>\n",
       "      <td>18.668810</td>\n",
       "    </tr>\n",
       "    <tr>\n",
       "      <th>std</th>\n",
       "      <td>31.769291</td>\n",
       "      <td>31.750292</td>\n",
       "      <td>1.854760</td>\n",
       "      <td>1.757895</td>\n",
       "      <td>31.728152</td>\n",
       "    </tr>\n",
       "    <tr>\n",
       "      <th>min</th>\n",
       "      <td>-9999.000000</td>\n",
       "      <td>-9999.000000</td>\n",
       "      <td>9.822070</td>\n",
       "      <td>9.469903</td>\n",
       "      <td>-9999.000000</td>\n",
       "    </tr>\n",
       "    <tr>\n",
       "      <th>25%</th>\n",
       "      <td>20.352353</td>\n",
       "      <td>18.965230</td>\n",
       "      <td>18.135828</td>\n",
       "      <td>17.732285</td>\n",
       "      <td>17.460677</td>\n",
       "    </tr>\n",
       "    <tr>\n",
       "      <th>50%</th>\n",
       "      <td>22.179135</td>\n",
       "      <td>21.099835</td>\n",
       "      <td>20.125290</td>\n",
       "      <td>19.405145</td>\n",
       "      <td>19.004595</td>\n",
       "    </tr>\n",
       "    <tr>\n",
       "      <th>75%</th>\n",
       "      <td>23.687440</td>\n",
       "      <td>22.123767</td>\n",
       "      <td>21.044785</td>\n",
       "      <td>20.396495</td>\n",
       "      <td>19.921120</td>\n",
       "    </tr>\n",
       "    <tr>\n",
       "      <th>max</th>\n",
       "      <td>32.781390</td>\n",
       "      <td>31.602240</td>\n",
       "      <td>29.571860</td>\n",
       "      <td>32.141470</td>\n",
       "      <td>29.383740</td>\n",
       "    </tr>\n",
       "  </tbody>\n",
       "</table>\n",
       "</div>"
      ],
      "text/plain": [
       "                   u              g              r              i  \\\n",
       "count  100000.000000  100000.000000  100000.000000  100000.000000   \n",
       "mean       21.980468      20.531387      19.645762      19.084854   \n",
       "std        31.769291      31.750292       1.854760       1.757895   \n",
       "min     -9999.000000   -9999.000000       9.822070       9.469903   \n",
       "25%        20.352353      18.965230      18.135828      17.732285   \n",
       "50%        22.179135      21.099835      20.125290      19.405145   \n",
       "75%        23.687440      22.123767      21.044785      20.396495   \n",
       "max        32.781390      31.602240      29.571860      32.141470   \n",
       "\n",
       "                   z  \n",
       "count  100000.000000  \n",
       "mean       18.668810  \n",
       "std        31.728152  \n",
       "min     -9999.000000  \n",
       "25%        17.460677  \n",
       "50%        19.004595  \n",
       "75%        19.921120  \n",
       "max        29.383740  "
      ]
     },
     "execution_count": 11,
     "metadata": {},
     "output_type": "execute_result"
    },
    {
     "data": {
      "image/png": "[encoded data removed]",
      "text/plain": [
       "<Figure size 720x432 with 6 Axes>"
      ]
     },
     "metadata": {
      "needs_background": "light"
     },
     "output_type": "display_data"
    }
   ],
   "source": [
    "#Investigating UGRIZ\n",
    "\n",
    "ugriz = data[['u','g','r','i','z']]\n",
    "ugriz.hist(figsize= (10,6))\n",
    "\n",
    "data[['u','g','r','i','z']].describe()"
   ]
  },
  {
   "cell_type": "markdown",
   "id": "7c6411ca",
   "metadata": {},
   "source": [
    "### We Probably Need to Scale tihs part of the data"
   ]
  },
  {
   "cell_type": "code",
   "execution_count": 12,
   "id": "9b75faec",
   "metadata": {},
   "outputs": [],
   "source": [
    "from sklearn.preprocessing import minmax_scale\n",
    "from sklearn.preprocessing import MinMaxScaler\n",
    "\n",
    "#Going to scale UGRIZ columns. \n",
    "mms = MinMaxScaler()\n",
    "\n",
    "data[['u','g','r','i','z']] = mms.fit_transform(data[['u','g','r','i','z']])\n"
   ]
  },
  {
   "cell_type": "code",
   "execution_count": 13,
   "id": "d970f7d7",
   "metadata": {},
   "outputs": [
    {
     "data": {
      "text/html": [
       "<div>\n",
       "<style scoped>\n",
       "    .dataframe tbody tr th:only-of-type {\n",
       "        vertical-align: middle;\n",
       "    }\n",
       "\n",
       "    .dataframe tbody tr th {\n",
       "        vertical-align: top;\n",
       "    }\n",
       "\n",
       "    .dataframe thead th {\n",
       "        text-align: right;\n",
       "    }\n",
       "</style>\n",
       "<table border=\"1\" class=\"dataframe\">\n",
       "  <thead>\n",
       "    <tr style=\"text-align: right;\">\n",
       "      <th></th>\n",
       "      <th>u</th>\n",
       "      <th>g</th>\n",
       "      <th>r</th>\n",
       "      <th>i</th>\n",
       "      <th>z</th>\n",
       "    </tr>\n",
       "  </thead>\n",
       "  <tbody>\n",
       "    <tr>\n",
       "      <th>count</th>\n",
       "      <td>100000.000000</td>\n",
       "      <td>100000.000000</td>\n",
       "      <td>100000.000000</td>\n",
       "      <td>100000.000000</td>\n",
       "      <td>100000.000000</td>\n",
       "    </tr>\n",
       "    <tr>\n",
       "      <th>mean</th>\n",
       "      <td>0.998923</td>\n",
       "      <td>0.998896</td>\n",
       "      <td>0.497407</td>\n",
       "      <td>0.424097</td>\n",
       "      <td>0.998932</td>\n",
       "    </tr>\n",
       "    <tr>\n",
       "      <th>std</th>\n",
       "      <td>0.003167</td>\n",
       "      <td>0.003165</td>\n",
       "      <td>0.093913</td>\n",
       "      <td>0.077537</td>\n",
       "      <td>0.003164</td>\n",
       "    </tr>\n",
       "    <tr>\n",
       "      <th>min</th>\n",
       "      <td>0.000000</td>\n",
       "      <td>0.000000</td>\n",
       "      <td>0.000000</td>\n",
       "      <td>0.000000</td>\n",
       "      <td>0.000000</td>\n",
       "    </tr>\n",
       "    <tr>\n",
       "      <th>25%</th>\n",
       "      <td>0.998761</td>\n",
       "      <td>0.998740</td>\n",
       "      <td>0.420954</td>\n",
       "      <td>0.364438</td>\n",
       "      <td>0.998811</td>\n",
       "    </tr>\n",
       "    <tr>\n",
       "      <th>50%</th>\n",
       "      <td>0.998943</td>\n",
       "      <td>0.998953</td>\n",
       "      <td>0.521688</td>\n",
       "      <td>0.438225</td>\n",
       "      <td>0.998965</td>\n",
       "    </tr>\n",
       "    <tr>\n",
       "      <th>75%</th>\n",
       "      <td>0.999093</td>\n",
       "      <td>0.999055</td>\n",
       "      <td>0.568245</td>\n",
       "      <td>0.481951</td>\n",
       "      <td>0.999056</td>\n",
       "    </tr>\n",
       "    <tr>\n",
       "      <th>max</th>\n",
       "      <td>1.000000</td>\n",
       "      <td>1.000000</td>\n",
       "      <td>1.000000</td>\n",
       "      <td>1.000000</td>\n",
       "      <td>1.000000</td>\n",
       "    </tr>\n",
       "  </tbody>\n",
       "</table>\n",
       "</div>"
      ],
      "text/plain": [
       "                   u              g              r              i  \\\n",
       "count  100000.000000  100000.000000  100000.000000  100000.000000   \n",
       "mean        0.998923       0.998896       0.497407       0.424097   \n",
       "std         0.003167       0.003165       0.093913       0.077537   \n",
       "min         0.000000       0.000000       0.000000       0.000000   \n",
       "25%         0.998761       0.998740       0.420954       0.364438   \n",
       "50%         0.998943       0.998953       0.521688       0.438225   \n",
       "75%         0.999093       0.999055       0.568245       0.481951   \n",
       "max         1.000000       1.000000       1.000000       1.000000   \n",
       "\n",
       "                   z  \n",
       "count  100000.000000  \n",
       "mean        0.998932  \n",
       "std         0.003164  \n",
       "min         0.000000  \n",
       "25%         0.998811  \n",
       "50%         0.998965  \n",
       "75%         0.999056  \n",
       "max         1.000000  "
      ]
     },
     "execution_count": 13,
     "metadata": {},
     "output_type": "execute_result"
    }
   ],
   "source": [
    "data[['u','g','r','i','z']].describe()"
   ]
  },
  {
   "cell_type": "code",
   "execution_count": 14,
   "id": "27e5aa95",
   "metadata": {},
   "outputs": [
    {
     "data": {
      "text/plain": [
       "GALAXY    59445\n",
       "STAR      21594\n",
       "QSO       18961\n",
       "Name: class, dtype: int64"
      ]
     },
     "execution_count": 14,
     "metadata": {},
     "output_type": "execute_result"
    }
   ],
   "source": [
    "data['class'].value_counts()"
   ]
  },
  {
   "cell_type": "markdown",
   "id": "78f284b4",
   "metadata": {},
   "source": [
    "# Random Forest and Gradient Boost "
   ]
  },
  {
   "cell_type": "markdown",
   "id": "61b8e177",
   "metadata": {},
   "source": [
    "#### Random Forest"
   ]
  },
  {
   "cell_type": "code",
   "execution_count": 15,
   "id": "4b33bbe6",
   "metadata": {},
   "outputs": [],
   "source": [
    "#Make Classes Numeric before training model\n",
    "\n",
    "data['class'].replace(['GALAXY', 'STAR','QSO'],\n",
    "                        [0, 1,2], inplace=True)"
   ]
  },
  {
   "cell_type": "code",
   "execution_count": 16,
   "id": "e6c900a0",
   "metadata": {},
   "outputs": [
    {
     "data": {
      "text/plain": [
       "0    59445\n",
       "1    21594\n",
       "2    18961\n",
       "Name: class, dtype: int64"
      ]
     },
     "execution_count": 16,
     "metadata": {},
     "output_type": "execute_result"
    }
   ],
   "source": [
    "data['class'].value_counts()"
   ]
  },
  {
   "cell_type": "code",
   "execution_count": 108,
   "id": "f93cef56",
   "metadata": {},
   "outputs": [],
   "source": [
    "from sklearn.model_selection import train_test_split\n",
    "from sklearn.ensemble import RandomForestClassifier\n",
    "from sklearn.ensemble import GradientBoostingClassifier\n",
    "from sklearn.metrics import mean_absolute_error\n",
    "from sklearn.metrics import mean_squared_error\n",
    "import sklearn.metrics as metrics\n",
    "from sklearn.metrics import classification_report\n",
    "\n",
    "X = data.drop(columns = ['class'])\n",
    "y = data['class']\n",
    "\n",
    "X_train, X_test, y_train, y_test = train_test_split(X, y, test_size = 0.25)"
   ]
  },
  {
   "cell_type": "code",
   "execution_count": 18,
   "id": "440bec9f",
   "metadata": {},
   "outputs": [
    {
     "name": "stdout",
     "output_type": "stream",
     "text": [
      "              precision    recall  f1-score   support\n",
      "\n",
      "           0       0.98      0.99      0.98     14948\n",
      "           1       1.00      1.00      1.00      5362\n",
      "           2       0.97      0.93      0.95      4690\n",
      "\n",
      "    accuracy                           0.98     25000\n",
      "   macro avg       0.98      0.97      0.98     25000\n",
      "weighted avg       0.98      0.98      0.98     25000\n",
      "\n",
      "RMSE:  0.2792131802046601\n",
      "MAE:  0.03956\n",
      "97.96 percent\n"
     ]
    },
    {
     "data": {
      "text/plain": [
       "RandomForestClassifier()"
      ]
     },
     "execution_count": 18,
     "metadata": {},
     "output_type": "execute_result"
    }
   ],
   "source": [
    "#Random Forest \n",
    "\n",
    "def classifier_model(model):\n",
    "    classifier = model()\n",
    "    classifier.fit(X_train,y_train)\n",
    "    y_pred = classifier.predict(X_test)\n",
    "    acc = round(classifier.score(X_test,y_test) * 100, 2)\n",
    "    print(classification_report(y_test, y_pred))\n",
    "    print(\"RMSE: \", np.sqrt(mean_squared_error(y_test, y_pred)))\n",
    "    print(\"MAE: \", mean_absolute_error(y_test,y_pred))\n",
    "    print(str(acc) + ' percent')\n",
    "    return classifier   \n",
    "\n",
    "classifier_model(RandomForestClassifier)\n"
   ]
  },
  {
   "cell_type": "code",
   "execution_count": 19,
   "id": "46618e6c",
   "metadata": {
    "scrolled": true
   },
   "outputs": [
    {
     "data": {
      "image/png": "[encoded data removed]",
      "text/plain": [
       "<Figure size 360x288 with 2 Axes>"
      ]
     },
     "metadata": {
      "needs_background": "light"
     },
     "output_type": "display_data"
    }
   ],
   "source": [
    "#Confusion Matrix for RF\n",
    "from sklearn.metrics import confusion_matrix\n",
    "\n",
    "\n",
    "clf = RandomForestClassifier().fit(X_train,y_train)\n",
    "clf.predict(X_train)\n",
    "y_pred = clf.predict(X_test)\n",
    "\n",
    "\n",
    "cm = confusion_matrix(y_test, y_pred)\n",
    "\n",
    "cm_df = pd.DataFrame(cm,\n",
    "                     index = ['GALAXY','STAR','QSO'], \n",
    "                     columns = ['GALAXY','STAR','QSO'])\n",
    "\n",
    "#Plotting the confusion matrix\n",
    "plt.figure(figsize=(5,4))\n",
    "sns.heatmap(cm_df, annot=True,  cmap=\"YlGnBu\")\n",
    "plt.title('Confusion Matrix')\n",
    "plt.ylabel('Actal Values')\n",
    "plt.xlabel('Predicted Values')\n",
    "plt.show()\n"
   ]
  },
  {
   "cell_type": "markdown",
   "id": "7079cc7f",
   "metadata": {},
   "source": [
    "#### Gradient Boost"
   ]
  },
  {
   "cell_type": "code",
   "execution_count": 20,
   "id": "930c3816",
   "metadata": {
    "scrolled": true
   },
   "outputs": [
    {
     "name": "stdout",
     "output_type": "stream",
     "text": [
      "              precision    recall  f1-score   support\n",
      "\n",
      "           0       0.97      0.99      0.98     14948\n",
      "           1       1.00      1.00      1.00      5362\n",
      "           2       0.97      0.91      0.94      4690\n",
      "\n",
      "    accuracy                           0.98     25000\n",
      "   macro avg       0.98      0.96      0.97     25000\n",
      "weighted avg       0.98      0.98      0.98     25000\n",
      "\n",
      "RMSE:  0.3062025473440742\n",
      "MAE:  0.0476\n",
      "97.55 percent\n"
     ]
    },
    {
     "data": {
      "text/plain": [
       "GradientBoostingClassifier()"
      ]
     },
     "execution_count": 20,
     "metadata": {},
     "output_type": "execute_result"
    }
   ],
   "source": [
    "#Gradient Boost\n",
    "\n",
    "def classifier_model(model):\n",
    "    classifier = model()\n",
    "    classifier.fit(X_train,y_train)\n",
    "    y_pred = classifier.predict(X_test)\n",
    "    acc = round(classifier.score(X_test,y_test) * 100, 2)\n",
    "    print(classification_report(y_test, y_pred))\n",
    "    print(\"RMSE: \", np.sqrt(mean_squared_error(y_test, y_pred)))\n",
    "    print(\"MAE: \", mean_absolute_error(y_test,y_pred))\n",
    "    print(str(acc) + ' percent')\n",
    "    return classifier   \n",
    "\n",
    "classifier_model(GradientBoostingClassifier)\n"
   ]
  },
  {
   "cell_type": "code",
   "execution_count": 21,
   "id": "fbe7651f",
   "metadata": {
    "scrolled": true
   },
   "outputs": [
    {
     "data": {
      "image/png": "[encoded data removed]",
      "text/plain": [
       "<Figure size 360x288 with 2 Axes>"
      ]
     },
     "metadata": {
      "needs_background": "light"
     },
     "output_type": "display_data"
    }
   ],
   "source": [
    "#Confusion Matrix for GB\n",
    "from sklearn.metrics import confusion_matrix\n",
    "\n",
    "\n",
    "gb_clf = GradientBoostingClassifier().fit(X_train,y_train)\n",
    "gb_clf.predict(X_train)\n",
    "y_pred = gb_clf.predict(X_test)\n",
    "\n",
    "\n",
    "cm = confusion_matrix(y_test, y_pred)\n",
    "\n",
    "cm_df = pd.DataFrame(cm,\n",
    "                     index = ['GALAXY','STAR','QSO'], \n",
    "                     columns = ['GALAXY','STAR','QSO'])\n",
    "\n",
    "#Plotting the confusion matrix\n",
    "plt.figure(figsize=(5,4))\n",
    "sns.heatmap(cm_df, annot=True,  cmap=\"YlGnBu\")\n",
    "plt.title('Confusion Matrix')\n",
    "plt.ylabel('Actal Values')\n",
    "plt.xlabel('Predicted Values')\n",
    "plt.show()\n"
   ]
  },
  {
   "cell_type": "markdown",
   "id": "7df7ea92",
   "metadata": {},
   "source": [
    "## Implementing Neural Network! -------- Verson 1"
   ]
  },
  {
   "cell_type": "markdown",
   "id": "5f8d218d",
   "metadata": {},
   "source": [
    "Following Documentation from: https://machinelearningmastery.com/multi-class-classification-tutorial-keras-deep-learning-library/"
   ]
  },
  {
   "cell_type": "code",
   "execution_count": 349,
   "id": "16e2cbd5",
   "metadata": {},
   "outputs": [],
   "source": [
    "import tensorflow as tf\n",
    "from tensorflow import keras\n",
    "from tensorflow.keras import layers\n",
    "from keras.layers import Activation, Dense, Flatten\n",
    "from keras.models import Sequential\n",
    "from keras.utils.np_utils import to_categorical\n",
    "from keras.utils import np_utils"
   ]
  },
  {
   "cell_type": "code",
   "execution_count": 350,
   "id": "270a212a",
   "metadata": {},
   "outputs": [],
   "source": [
    "X = data.drop(columns = ['class'])\n",
    "y = data['class']"
   ]
  },
  {
   "cell_type": "code",
   "execution_count": 351,
   "id": "54d1b3cf",
   "metadata": {},
   "outputs": [],
   "source": [
    "from sklearn import preprocessing\n",
    "from sklearn.preprocessing import LabelEncoder\n",
    "\n",
    "\n",
    "# encode class values as integers\n",
    "encoder = LabelEncoder()\n",
    "encoder.fit(y)\n",
    "encoded_y = encoder.transform(y)\n",
    "# convert integers to dummy variables (i.e. one hot encoded)\n",
    "dummy_y = np_utils.to_categorical(encoded_y)"
   ]
  },
  {
   "cell_type": "code",
   "execution_count": 352,
   "id": "365b0518",
   "metadata": {},
   "outputs": [],
   "source": [
    "from tensorflow.keras.optimizers import SGD\n",
    "opt = SGD(lr=0.1)\n",
    "model.compile(loss = \"categorical_crossentropy\", optimizer = opt)"
   ]
  },
  {
   "cell_type": "code",
   "execution_count": 353,
   "id": "58fb5202",
   "metadata": {},
   "outputs": [],
   "source": [
    "# define baseline model\n",
    "def baseline_model():\n",
    "    # create model\n",
    "    model = Sequential()\n",
    "    model.add(Dense(10, input_dim=11, activation='relu'))\n",
    "    model.add(Dense(10, input_dim=11, activation='relu'))\n",
    "    model.add(Dense(3, activation='softmax'))\n",
    "    # Compile model\n",
    "    model.compile(loss='categorical_crossentropy', optimizer=opt, metrics=['accuracy'])\n",
    "    return model"
   ]
  },
  {
   "cell_type": "code",
   "execution_count": 354,
   "id": "d4e8b99d",
   "metadata": {},
   "outputs": [],
   "source": [
    "from keras.wrappers.scikit_learn import KerasClassifier\n",
    "estimator = KerasClassifier(build_fn=baseline_model, epochs=5, batch_size=5, verbose=1)"
   ]
  },
  {
   "cell_type": "code",
   "execution_count": 355,
   "id": "9c2f6198",
   "metadata": {
    "scrolled": true
   },
   "outputs": [],
   "source": [
    "from sklearn.model_selection import KFold\n",
    "kfold = KFold(n_splits=10, shuffle=True)"
   ]
  },
  {
   "cell_type": "code",
   "execution_count": 356,
   "id": "e3d08817",
   "metadata": {},
   "outputs": [
    {
     "name": "stdout",
     "output_type": "stream",
     "text": [
      "Epoch 1/5\n",
      "18000/18000 [==============================] - 16s 868us/step - loss: 11915166720.0000 - accuracy: 0.5948\n",
      "Epoch 2/5\n",
      "18000/18000 [==============================] - 15s 860us/step - loss: 0.9579 - accuracy: 0.5948\n",
      "Epoch 3/5\n",
      "18000/18000 [==============================] - 15s 813us/step - loss: 0.9578 - accuracy: 0.5948\n",
      "Epoch 4/5\n",
      "18000/18000 [==============================] - 15s 825us/step - loss: 0.9578 - accuracy: 0.5948\n",
      "Epoch 5/5\n",
      "18000/18000 [==============================] - 15s 823us/step - loss: 0.9578 - accuracy: 0.5948\n",
      "2000/2000 [==============================] - 2s 747us/step - loss: 0.9692 - accuracy: 0.5909\n",
      "Epoch 1/5\n",
      "18000/18000 [==============================] - 15s 845us/step - loss: 135641.7188 - accuracy: 0.5946\n",
      "Epoch 2/5\n",
      "18000/18000 [==============================] - 15s 858us/step - loss: 0.9584 - accuracy: 0.5946\n",
      "Epoch 3/5\n",
      "18000/18000 [==============================] - 16s 889us/step - loss: 0.9583 - accuracy: 0.5946\n",
      "Epoch 4/5\n",
      "18000/18000 [==============================] - 15s 848us/step - loss: 0.9580 - accuracy: 0.5946\n",
      "Epoch 5/5\n",
      "18000/18000 [==============================] - 15s 851us/step - loss: 0.9581 - accuracy: 0.5946\n",
      "2000/2000 [==============================] - 2s 823us/step - loss: 0.9571 - accuracy: 0.5930\n",
      "Epoch 1/5\n",
      "18000/18000 [==============================] - 16s 856us/step - loss: 9081839.0000 - accuracy: 0.5939\n",
      "Epoch 2/5\n",
      "18000/18000 [==============================] - 18s 990us/step - loss: 0.9587 - accuracy: 0.5939\n",
      "Epoch 3/5\n",
      "18000/18000 [==============================] - 16s 891us/step - loss: 0.9589 - accuracy: 0.5939\n",
      "Epoch 4/5\n",
      "18000/18000 [==============================] - 15s 845us/step - loss: 0.9591 - accuracy: 0.5939\n",
      "Epoch 5/5\n",
      "18000/18000 [==============================] - 16s 879us/step - loss: 0.9587 - accuracy: 0.5939\n",
      "2000/2000 [==============================] - 2s 1ms/step - loss: 0.9529 - accuracy: 0.5991\n",
      "Epoch 1/5\n",
      "18000/18000 [==============================] - 18s 977us/step - loss: 251.5634 - accuracy: 0.5946\n",
      "Epoch 2/5\n",
      "18000/18000 [==============================] - 16s 908us/step - loss: 0.9581 - accuracy: 0.5946\n",
      "Epoch 3/5\n",
      "18000/18000 [==============================] - 16s 870us/step - loss: 0.9580 - accuracy: 0.5946\n",
      "Epoch 4/5\n",
      "  116/18000 [..............................] - ETA: 15s - loss: 0.9540 - accuracy: 0.6000"
     ]
    },
    {
     "ename": "KeyboardInterrupt",
     "evalue": "",
     "output_type": "error",
     "traceback": [
      "\u001b[1;31m---------------------------------------------------------------------------\u001b[0m",
      "\u001b[1;31mKeyboardInterrupt\u001b[0m                         Traceback (most recent call last)",
      "\u001b[1;32m~\\AppData\\Local\\Temp/ipykernel_19668/1669712897.py\u001b[0m in \u001b[0;36m<module>\u001b[1;34m\u001b[0m\n\u001b[0;32m      1\u001b[0m \u001b[1;32mfrom\u001b[0m \u001b[0msklearn\u001b[0m\u001b[1;33m.\u001b[0m\u001b[0mmodel_selection\u001b[0m \u001b[1;32mimport\u001b[0m \u001b[0mcross_val_score\u001b[0m\u001b[1;33m\u001b[0m\u001b[1;33m\u001b[0m\u001b[0m\n\u001b[1;32m----> 2\u001b[1;33m \u001b[0mresults\u001b[0m \u001b[1;33m=\u001b[0m \u001b[0mcross_val_score\u001b[0m\u001b[1;33m(\u001b[0m\u001b[0mestimator\u001b[0m\u001b[1;33m,\u001b[0m \u001b[0mX\u001b[0m\u001b[1;33m,\u001b[0m \u001b[0mdummy_y\u001b[0m\u001b[1;33m,\u001b[0m \u001b[0mcv\u001b[0m\u001b[1;33m=\u001b[0m\u001b[0mkfold\u001b[0m\u001b[1;33m)\u001b[0m\u001b[1;33m\u001b[0m\u001b[1;33m\u001b[0m\u001b[0m\n\u001b[0m\u001b[0;32m      3\u001b[0m \u001b[0mprint\u001b[0m\u001b[1;33m(\u001b[0m\u001b[1;34m\"Baseline: %.2f%% (%.2f%%)\"\u001b[0m \u001b[1;33m%\u001b[0m \u001b[1;33m(\u001b[0m\u001b[0mresults\u001b[0m\u001b[1;33m.\u001b[0m\u001b[0mmean\u001b[0m\u001b[1;33m(\u001b[0m\u001b[1;33m)\u001b[0m\u001b[1;33m*\u001b[0m\u001b[1;36m100\u001b[0m\u001b[1;33m,\u001b[0m \u001b[0mresults\u001b[0m\u001b[1;33m.\u001b[0m\u001b[0mstd\u001b[0m\u001b[1;33m(\u001b[0m\u001b[1;33m)\u001b[0m\u001b[1;33m*\u001b[0m\u001b[1;36m100\u001b[0m\u001b[1;33m)\u001b[0m\u001b[1;33m)\u001b[0m\u001b[1;33m\u001b[0m\u001b[1;33m\u001b[0m\u001b[0m\n",
      "\u001b[1;32m~\\anaconda3\\lib\\site-packages\\sklearn\\utils\\validation.py\u001b[0m in \u001b[0;36minner_f\u001b[1;34m(*args, **kwargs)\u001b[0m\n\u001b[0;32m     61\u001b[0m             \u001b[0mextra_args\u001b[0m \u001b[1;33m=\u001b[0m \u001b[0mlen\u001b[0m\u001b[1;33m(\u001b[0m\u001b[0margs\u001b[0m\u001b[1;33m)\u001b[0m \u001b[1;33m-\u001b[0m \u001b[0mlen\u001b[0m\u001b[1;33m(\u001b[0m\u001b[0mall_args\u001b[0m\u001b[1;33m)\u001b[0m\u001b[1;33m\u001b[0m\u001b[1;33m\u001b[0m\u001b[0m\n\u001b[0;32m     62\u001b[0m             \u001b[1;32mif\u001b[0m \u001b[0mextra_args\u001b[0m \u001b[1;33m<=\u001b[0m \u001b[1;36m0\u001b[0m\u001b[1;33m:\u001b[0m\u001b[1;33m\u001b[0m\u001b[1;33m\u001b[0m\u001b[0m\n\u001b[1;32m---> 63\u001b[1;33m                 \u001b[1;32mreturn\u001b[0m \u001b[0mf\u001b[0m\u001b[1;33m(\u001b[0m\u001b[1;33m*\u001b[0m\u001b[0margs\u001b[0m\u001b[1;33m,\u001b[0m \u001b[1;33m**\u001b[0m\u001b[0mkwargs\u001b[0m\u001b[1;33m)\u001b[0m\u001b[1;33m\u001b[0m\u001b[1;33m\u001b[0m\u001b[0m\n\u001b[0m\u001b[0;32m     64\u001b[0m \u001b[1;33m\u001b[0m\u001b[0m\n\u001b[0;32m     65\u001b[0m             \u001b[1;31m# extra_args > 0\u001b[0m\u001b[1;33m\u001b[0m\u001b[1;33m\u001b[0m\u001b[0m\n",
      "\u001b[1;32m~\\anaconda3\\lib\\site-packages\\sklearn\\model_selection\\_validation.py\u001b[0m in \u001b[0;36mcross_val_score\u001b[1;34m(estimator, X, y, groups, scoring, cv, n_jobs, verbose, fit_params, pre_dispatch, error_score)\u001b[0m\n\u001b[0;32m    443\u001b[0m     \u001b[0mscorer\u001b[0m \u001b[1;33m=\u001b[0m \u001b[0mcheck_scoring\u001b[0m\u001b[1;33m(\u001b[0m\u001b[0mestimator\u001b[0m\u001b[1;33m,\u001b[0m \u001b[0mscoring\u001b[0m\u001b[1;33m=\u001b[0m\u001b[0mscoring\u001b[0m\u001b[1;33m)\u001b[0m\u001b[1;33m\u001b[0m\u001b[1;33m\u001b[0m\u001b[0m\n\u001b[0;32m    444\u001b[0m \u001b[1;33m\u001b[0m\u001b[0m\n\u001b[1;32m--> 445\u001b[1;33m     cv_results = cross_validate(estimator=estimator, X=X, y=y, groups=groups,\n\u001b[0m\u001b[0;32m    446\u001b[0m                                 \u001b[0mscoring\u001b[0m\u001b[1;33m=\u001b[0m\u001b[1;33m{\u001b[0m\u001b[1;34m'score'\u001b[0m\u001b[1;33m:\u001b[0m \u001b[0mscorer\u001b[0m\u001b[1;33m}\u001b[0m\u001b[1;33m,\u001b[0m \u001b[0mcv\u001b[0m\u001b[1;33m=\u001b[0m\u001b[0mcv\u001b[0m\u001b[1;33m,\u001b[0m\u001b[1;33m\u001b[0m\u001b[1;33m\u001b[0m\u001b[0m\n\u001b[0;32m    447\u001b[0m                                 \u001b[0mn_jobs\u001b[0m\u001b[1;33m=\u001b[0m\u001b[0mn_jobs\u001b[0m\u001b[1;33m,\u001b[0m \u001b[0mverbose\u001b[0m\u001b[1;33m=\u001b[0m\u001b[0mverbose\u001b[0m\u001b[1;33m,\u001b[0m\u001b[1;33m\u001b[0m\u001b[1;33m\u001b[0m\u001b[0m\n",
      "\u001b[1;32m~\\anaconda3\\lib\\site-packages\\sklearn\\utils\\validation.py\u001b[0m in \u001b[0;36minner_f\u001b[1;34m(*args, **kwargs)\u001b[0m\n\u001b[0;32m     61\u001b[0m             \u001b[0mextra_args\u001b[0m \u001b[1;33m=\u001b[0m \u001b[0mlen\u001b[0m\u001b[1;33m(\u001b[0m\u001b[0margs\u001b[0m\u001b[1;33m)\u001b[0m \u001b[1;33m-\u001b[0m \u001b[0mlen\u001b[0m\u001b[1;33m(\u001b[0m\u001b[0mall_args\u001b[0m\u001b[1;33m)\u001b[0m\u001b[1;33m\u001b[0m\u001b[1;33m\u001b[0m\u001b[0m\n\u001b[0;32m     62\u001b[0m             \u001b[1;32mif\u001b[0m \u001b[0mextra_args\u001b[0m \u001b[1;33m<=\u001b[0m \u001b[1;36m0\u001b[0m\u001b[1;33m:\u001b[0m\u001b[1;33m\u001b[0m\u001b[1;33m\u001b[0m\u001b[0m\n\u001b[1;32m---> 63\u001b[1;33m                 \u001b[1;32mreturn\u001b[0m \u001b[0mf\u001b[0m\u001b[1;33m(\u001b[0m\u001b[1;33m*\u001b[0m\u001b[0margs\u001b[0m\u001b[1;33m,\u001b[0m \u001b[1;33m**\u001b[0m\u001b[0mkwargs\u001b[0m\u001b[1;33m)\u001b[0m\u001b[1;33m\u001b[0m\u001b[1;33m\u001b[0m\u001b[0m\n\u001b[0m\u001b[0;32m     64\u001b[0m \u001b[1;33m\u001b[0m\u001b[0m\n\u001b[0;32m     65\u001b[0m             \u001b[1;31m# extra_args > 0\u001b[0m\u001b[1;33m\u001b[0m\u001b[1;33m\u001b[0m\u001b[0m\n",
      "\u001b[1;32m~\\anaconda3\\lib\\site-packages\\sklearn\\model_selection\\_validation.py\u001b[0m in \u001b[0;36mcross_validate\u001b[1;34m(estimator, X, y, groups, scoring, cv, n_jobs, verbose, fit_params, pre_dispatch, return_train_score, return_estimator, error_score)\u001b[0m\n\u001b[0;32m    248\u001b[0m     parallel = Parallel(n_jobs=n_jobs, verbose=verbose,\n\u001b[0;32m    249\u001b[0m                         pre_dispatch=pre_dispatch)\n\u001b[1;32m--> 250\u001b[1;33m     results = parallel(\n\u001b[0m\u001b[0;32m    251\u001b[0m         delayed(_fit_and_score)(\n\u001b[0;32m    252\u001b[0m             \u001b[0mclone\u001b[0m\u001b[1;33m(\u001b[0m\u001b[0mestimator\u001b[0m\u001b[1;33m)\u001b[0m\u001b[1;33m,\u001b[0m \u001b[0mX\u001b[0m\u001b[1;33m,\u001b[0m \u001b[0my\u001b[0m\u001b[1;33m,\u001b[0m \u001b[0mscorers\u001b[0m\u001b[1;33m,\u001b[0m \u001b[0mtrain\u001b[0m\u001b[1;33m,\u001b[0m \u001b[0mtest\u001b[0m\u001b[1;33m,\u001b[0m \u001b[0mverbose\u001b[0m\u001b[1;33m,\u001b[0m \u001b[1;32mNone\u001b[0m\u001b[1;33m,\u001b[0m\u001b[1;33m\u001b[0m\u001b[1;33m\u001b[0m\u001b[0m\n",
      "\u001b[1;32m~\\anaconda3\\lib\\site-packages\\joblib\\parallel.py\u001b[0m in \u001b[0;36m__call__\u001b[1;34m(self, iterable)\u001b[0m\n\u001b[0;32m   1044\u001b[0m                 \u001b[0mself\u001b[0m\u001b[1;33m.\u001b[0m\u001b[0m_iterating\u001b[0m \u001b[1;33m=\u001b[0m \u001b[0mself\u001b[0m\u001b[1;33m.\u001b[0m\u001b[0m_original_iterator\u001b[0m \u001b[1;32mis\u001b[0m \u001b[1;32mnot\u001b[0m \u001b[1;32mNone\u001b[0m\u001b[1;33m\u001b[0m\u001b[1;33m\u001b[0m\u001b[0m\n\u001b[0;32m   1045\u001b[0m \u001b[1;33m\u001b[0m\u001b[0m\n\u001b[1;32m-> 1046\u001b[1;33m             \u001b[1;32mwhile\u001b[0m \u001b[0mself\u001b[0m\u001b[1;33m.\u001b[0m\u001b[0mdispatch_one_batch\u001b[0m\u001b[1;33m(\u001b[0m\u001b[0miterator\u001b[0m\u001b[1;33m)\u001b[0m\u001b[1;33m:\u001b[0m\u001b[1;33m\u001b[0m\u001b[1;33m\u001b[0m\u001b[0m\n\u001b[0m\u001b[0;32m   1047\u001b[0m                 \u001b[1;32mpass\u001b[0m\u001b[1;33m\u001b[0m\u001b[1;33m\u001b[0m\u001b[0m\n\u001b[0;32m   1048\u001b[0m \u001b[1;33m\u001b[0m\u001b[0m\n",
      "\u001b[1;32m~\\anaconda3\\lib\\site-packages\\joblib\\parallel.py\u001b[0m in \u001b[0;36mdispatch_one_batch\u001b[1;34m(self, iterator)\u001b[0m\n\u001b[0;32m    859\u001b[0m                 \u001b[1;32mreturn\u001b[0m \u001b[1;32mFalse\u001b[0m\u001b[1;33m\u001b[0m\u001b[1;33m\u001b[0m\u001b[0m\n\u001b[0;32m    860\u001b[0m             \u001b[1;32melse\u001b[0m\u001b[1;33m:\u001b[0m\u001b[1;33m\u001b[0m\u001b[1;33m\u001b[0m\u001b[0m\n\u001b[1;32m--> 861\u001b[1;33m                 \u001b[0mself\u001b[0m\u001b[1;33m.\u001b[0m\u001b[0m_dispatch\u001b[0m\u001b[1;33m(\u001b[0m\u001b[0mtasks\u001b[0m\u001b[1;33m)\u001b[0m\u001b[1;33m\u001b[0m\u001b[1;33m\u001b[0m\u001b[0m\n\u001b[0m\u001b[0;32m    862\u001b[0m                 \u001b[1;32mreturn\u001b[0m \u001b[1;32mTrue\u001b[0m\u001b[1;33m\u001b[0m\u001b[1;33m\u001b[0m\u001b[0m\n\u001b[0;32m    863\u001b[0m \u001b[1;33m\u001b[0m\u001b[0m\n",
      "\u001b[1;32m~\\anaconda3\\lib\\site-packages\\joblib\\parallel.py\u001b[0m in \u001b[0;36m_dispatch\u001b[1;34m(self, batch)\u001b[0m\n\u001b[0;32m    777\u001b[0m         \u001b[1;32mwith\u001b[0m \u001b[0mself\u001b[0m\u001b[1;33m.\u001b[0m\u001b[0m_lock\u001b[0m\u001b[1;33m:\u001b[0m\u001b[1;33m\u001b[0m\u001b[1;33m\u001b[0m\u001b[0m\n\u001b[0;32m    778\u001b[0m             \u001b[0mjob_idx\u001b[0m \u001b[1;33m=\u001b[0m \u001b[0mlen\u001b[0m\u001b[1;33m(\u001b[0m\u001b[0mself\u001b[0m\u001b[1;33m.\u001b[0m\u001b[0m_jobs\u001b[0m\u001b[1;33m)\u001b[0m\u001b[1;33m\u001b[0m\u001b[1;33m\u001b[0m\u001b[0m\n\u001b[1;32m--> 779\u001b[1;33m             \u001b[0mjob\u001b[0m \u001b[1;33m=\u001b[0m \u001b[0mself\u001b[0m\u001b[1;33m.\u001b[0m\u001b[0m_backend\u001b[0m\u001b[1;33m.\u001b[0m\u001b[0mapply_async\u001b[0m\u001b[1;33m(\u001b[0m\u001b[0mbatch\u001b[0m\u001b[1;33m,\u001b[0m \u001b[0mcallback\u001b[0m\u001b[1;33m=\u001b[0m\u001b[0mcb\u001b[0m\u001b[1;33m)\u001b[0m\u001b[1;33m\u001b[0m\u001b[1;33m\u001b[0m\u001b[0m\n\u001b[0m\u001b[0;32m    780\u001b[0m             \u001b[1;31m# A job can complete so quickly than its callback is\u001b[0m\u001b[1;33m\u001b[0m\u001b[1;33m\u001b[0m\u001b[0m\n\u001b[0;32m    781\u001b[0m             \u001b[1;31m# called before we get here, causing self._jobs to\u001b[0m\u001b[1;33m\u001b[0m\u001b[1;33m\u001b[0m\u001b[0m\n",
      "\u001b[1;32m~\\anaconda3\\lib\\site-packages\\joblib\\_parallel_backends.py\u001b[0m in \u001b[0;36mapply_async\u001b[1;34m(self, func, callback)\u001b[0m\n\u001b[0;32m    206\u001b[0m     \u001b[1;32mdef\u001b[0m \u001b[0mapply_async\u001b[0m\u001b[1;33m(\u001b[0m\u001b[0mself\u001b[0m\u001b[1;33m,\u001b[0m \u001b[0mfunc\u001b[0m\u001b[1;33m,\u001b[0m \u001b[0mcallback\u001b[0m\u001b[1;33m=\u001b[0m\u001b[1;32mNone\u001b[0m\u001b[1;33m)\u001b[0m\u001b[1;33m:\u001b[0m\u001b[1;33m\u001b[0m\u001b[1;33m\u001b[0m\u001b[0m\n\u001b[0;32m    207\u001b[0m         \u001b[1;34m\"\"\"Schedule a func to be run\"\"\"\u001b[0m\u001b[1;33m\u001b[0m\u001b[1;33m\u001b[0m\u001b[0m\n\u001b[1;32m--> 208\u001b[1;33m         \u001b[0mresult\u001b[0m \u001b[1;33m=\u001b[0m \u001b[0mImmediateResult\u001b[0m\u001b[1;33m(\u001b[0m\u001b[0mfunc\u001b[0m\u001b[1;33m)\u001b[0m\u001b[1;33m\u001b[0m\u001b[1;33m\u001b[0m\u001b[0m\n\u001b[0m\u001b[0;32m    209\u001b[0m         \u001b[1;32mif\u001b[0m \u001b[0mcallback\u001b[0m\u001b[1;33m:\u001b[0m\u001b[1;33m\u001b[0m\u001b[1;33m\u001b[0m\u001b[0m\n\u001b[0;32m    210\u001b[0m             \u001b[0mcallback\u001b[0m\u001b[1;33m(\u001b[0m\u001b[0mresult\u001b[0m\u001b[1;33m)\u001b[0m\u001b[1;33m\u001b[0m\u001b[1;33m\u001b[0m\u001b[0m\n",
      "\u001b[1;32m~\\anaconda3\\lib\\site-packages\\joblib\\_parallel_backends.py\u001b[0m in \u001b[0;36m__init__\u001b[1;34m(self, batch)\u001b[0m\n\u001b[0;32m    570\u001b[0m         \u001b[1;31m# Don't delay the application, to avoid keeping the input\u001b[0m\u001b[1;33m\u001b[0m\u001b[1;33m\u001b[0m\u001b[0m\n\u001b[0;32m    571\u001b[0m         \u001b[1;31m# arguments in memory\u001b[0m\u001b[1;33m\u001b[0m\u001b[1;33m\u001b[0m\u001b[0m\n\u001b[1;32m--> 572\u001b[1;33m         \u001b[0mself\u001b[0m\u001b[1;33m.\u001b[0m\u001b[0mresults\u001b[0m \u001b[1;33m=\u001b[0m \u001b[0mbatch\u001b[0m\u001b[1;33m(\u001b[0m\u001b[1;33m)\u001b[0m\u001b[1;33m\u001b[0m\u001b[1;33m\u001b[0m\u001b[0m\n\u001b[0m\u001b[0;32m    573\u001b[0m \u001b[1;33m\u001b[0m\u001b[0m\n\u001b[0;32m    574\u001b[0m     \u001b[1;32mdef\u001b[0m \u001b[0mget\u001b[0m\u001b[1;33m(\u001b[0m\u001b[0mself\u001b[0m\u001b[1;33m)\u001b[0m\u001b[1;33m:\u001b[0m\u001b[1;33m\u001b[0m\u001b[1;33m\u001b[0m\u001b[0m\n",
      "\u001b[1;32m~\\anaconda3\\lib\\site-packages\\joblib\\parallel.py\u001b[0m in \u001b[0;36m__call__\u001b[1;34m(self)\u001b[0m\n\u001b[0;32m    260\u001b[0m         \u001b[1;31m# change the default number of processes to -1\u001b[0m\u001b[1;33m\u001b[0m\u001b[1;33m\u001b[0m\u001b[0m\n\u001b[0;32m    261\u001b[0m         \u001b[1;32mwith\u001b[0m \u001b[0mparallel_backend\u001b[0m\u001b[1;33m(\u001b[0m\u001b[0mself\u001b[0m\u001b[1;33m.\u001b[0m\u001b[0m_backend\u001b[0m\u001b[1;33m,\u001b[0m \u001b[0mn_jobs\u001b[0m\u001b[1;33m=\u001b[0m\u001b[0mself\u001b[0m\u001b[1;33m.\u001b[0m\u001b[0m_n_jobs\u001b[0m\u001b[1;33m)\u001b[0m\u001b[1;33m:\u001b[0m\u001b[1;33m\u001b[0m\u001b[1;33m\u001b[0m\u001b[0m\n\u001b[1;32m--> 262\u001b[1;33m             return [func(*args, **kwargs)\n\u001b[0m\u001b[0;32m    263\u001b[0m                     for func, args, kwargs in self.items]\n\u001b[0;32m    264\u001b[0m \u001b[1;33m\u001b[0m\u001b[0m\n",
      "\u001b[1;32m~\\anaconda3\\lib\\site-packages\\joblib\\parallel.py\u001b[0m in \u001b[0;36m<listcomp>\u001b[1;34m(.0)\u001b[0m\n\u001b[0;32m    260\u001b[0m         \u001b[1;31m# change the default number of processes to -1\u001b[0m\u001b[1;33m\u001b[0m\u001b[1;33m\u001b[0m\u001b[0m\n\u001b[0;32m    261\u001b[0m         \u001b[1;32mwith\u001b[0m \u001b[0mparallel_backend\u001b[0m\u001b[1;33m(\u001b[0m\u001b[0mself\u001b[0m\u001b[1;33m.\u001b[0m\u001b[0m_backend\u001b[0m\u001b[1;33m,\u001b[0m \u001b[0mn_jobs\u001b[0m\u001b[1;33m=\u001b[0m\u001b[0mself\u001b[0m\u001b[1;33m.\u001b[0m\u001b[0m_n_jobs\u001b[0m\u001b[1;33m)\u001b[0m\u001b[1;33m:\u001b[0m\u001b[1;33m\u001b[0m\u001b[1;33m\u001b[0m\u001b[0m\n\u001b[1;32m--> 262\u001b[1;33m             return [func(*args, **kwargs)\n\u001b[0m\u001b[0;32m    263\u001b[0m                     for func, args, kwargs in self.items]\n\u001b[0;32m    264\u001b[0m \u001b[1;33m\u001b[0m\u001b[0m\n",
      "\u001b[1;32m~\\anaconda3\\lib\\site-packages\\sklearn\\utils\\fixes.py\u001b[0m in \u001b[0;36m__call__\u001b[1;34m(self, *args, **kwargs)\u001b[0m\n\u001b[0;32m    220\u001b[0m     \u001b[1;32mdef\u001b[0m \u001b[0m__call__\u001b[0m\u001b[1;33m(\u001b[0m\u001b[0mself\u001b[0m\u001b[1;33m,\u001b[0m \u001b[1;33m*\u001b[0m\u001b[0margs\u001b[0m\u001b[1;33m,\u001b[0m \u001b[1;33m**\u001b[0m\u001b[0mkwargs\u001b[0m\u001b[1;33m)\u001b[0m\u001b[1;33m:\u001b[0m\u001b[1;33m\u001b[0m\u001b[1;33m\u001b[0m\u001b[0m\n\u001b[0;32m    221\u001b[0m         \u001b[1;32mwith\u001b[0m \u001b[0mconfig_context\u001b[0m\u001b[1;33m(\u001b[0m\u001b[1;33m**\u001b[0m\u001b[0mself\u001b[0m\u001b[1;33m.\u001b[0m\u001b[0mconfig\u001b[0m\u001b[1;33m)\u001b[0m\u001b[1;33m:\u001b[0m\u001b[1;33m\u001b[0m\u001b[1;33m\u001b[0m\u001b[0m\n\u001b[1;32m--> 222\u001b[1;33m             \u001b[1;32mreturn\u001b[0m \u001b[0mself\u001b[0m\u001b[1;33m.\u001b[0m\u001b[0mfunction\u001b[0m\u001b[1;33m(\u001b[0m\u001b[1;33m*\u001b[0m\u001b[0margs\u001b[0m\u001b[1;33m,\u001b[0m \u001b[1;33m**\u001b[0m\u001b[0mkwargs\u001b[0m\u001b[1;33m)\u001b[0m\u001b[1;33m\u001b[0m\u001b[1;33m\u001b[0m\u001b[0m\n\u001b[0m",
      "\u001b[1;32m~\\anaconda3\\lib\\site-packages\\sklearn\\model_selection\\_validation.py\u001b[0m in \u001b[0;36m_fit_and_score\u001b[1;34m(estimator, X, y, scorer, train, test, verbose, parameters, fit_params, return_train_score, return_parameters, return_n_test_samples, return_times, return_estimator, split_progress, candidate_progress, error_score)\u001b[0m\n\u001b[0;32m    596\u001b[0m             \u001b[0mestimator\u001b[0m\u001b[1;33m.\u001b[0m\u001b[0mfit\u001b[0m\u001b[1;33m(\u001b[0m\u001b[0mX_train\u001b[0m\u001b[1;33m,\u001b[0m \u001b[1;33m**\u001b[0m\u001b[0mfit_params\u001b[0m\u001b[1;33m)\u001b[0m\u001b[1;33m\u001b[0m\u001b[1;33m\u001b[0m\u001b[0m\n\u001b[0;32m    597\u001b[0m         \u001b[1;32melse\u001b[0m\u001b[1;33m:\u001b[0m\u001b[1;33m\u001b[0m\u001b[1;33m\u001b[0m\u001b[0m\n\u001b[1;32m--> 598\u001b[1;33m             \u001b[0mestimator\u001b[0m\u001b[1;33m.\u001b[0m\u001b[0mfit\u001b[0m\u001b[1;33m(\u001b[0m\u001b[0mX_train\u001b[0m\u001b[1;33m,\u001b[0m \u001b[0my_train\u001b[0m\u001b[1;33m,\u001b[0m \u001b[1;33m**\u001b[0m\u001b[0mfit_params\u001b[0m\u001b[1;33m)\u001b[0m\u001b[1;33m\u001b[0m\u001b[1;33m\u001b[0m\u001b[0m\n\u001b[0m\u001b[0;32m    599\u001b[0m \u001b[1;33m\u001b[0m\u001b[0m\n\u001b[0;32m    600\u001b[0m     \u001b[1;32mexcept\u001b[0m \u001b[0mException\u001b[0m \u001b[1;32mas\u001b[0m \u001b[0me\u001b[0m\u001b[1;33m:\u001b[0m\u001b[1;33m\u001b[0m\u001b[1;33m\u001b[0m\u001b[0m\n",
      "\u001b[1;32m~\\anaconda3\\lib\\site-packages\\keras\\wrappers\\scikit_learn.py\u001b[0m in \u001b[0;36mfit\u001b[1;34m(self, x, y, **kwargs)\u001b[0m\n\u001b[0;32m    234\u001b[0m       \u001b[1;32mraise\u001b[0m \u001b[0mValueError\u001b[0m\u001b[1;33m(\u001b[0m\u001b[1;34m'Invalid shape for y: '\u001b[0m \u001b[1;33m+\u001b[0m \u001b[0mstr\u001b[0m\u001b[1;33m(\u001b[0m\u001b[0my\u001b[0m\u001b[1;33m.\u001b[0m\u001b[0mshape\u001b[0m\u001b[1;33m)\u001b[0m\u001b[1;33m)\u001b[0m\u001b[1;33m\u001b[0m\u001b[1;33m\u001b[0m\u001b[0m\n\u001b[0;32m    235\u001b[0m     \u001b[0mself\u001b[0m\u001b[1;33m.\u001b[0m\u001b[0mn_classes_\u001b[0m \u001b[1;33m=\u001b[0m \u001b[0mlen\u001b[0m\u001b[1;33m(\u001b[0m\u001b[0mself\u001b[0m\u001b[1;33m.\u001b[0m\u001b[0mclasses_\u001b[0m\u001b[1;33m)\u001b[0m\u001b[1;33m\u001b[0m\u001b[1;33m\u001b[0m\u001b[0m\n\u001b[1;32m--> 236\u001b[1;33m     \u001b[1;32mreturn\u001b[0m \u001b[0msuper\u001b[0m\u001b[1;33m(\u001b[0m\u001b[0mKerasClassifier\u001b[0m\u001b[1;33m,\u001b[0m \u001b[0mself\u001b[0m\u001b[1;33m)\u001b[0m\u001b[1;33m.\u001b[0m\u001b[0mfit\u001b[0m\u001b[1;33m(\u001b[0m\u001b[0mx\u001b[0m\u001b[1;33m,\u001b[0m \u001b[0my\u001b[0m\u001b[1;33m,\u001b[0m \u001b[1;33m**\u001b[0m\u001b[0mkwargs\u001b[0m\u001b[1;33m)\u001b[0m\u001b[1;33m\u001b[0m\u001b[1;33m\u001b[0m\u001b[0m\n\u001b[0m\u001b[0;32m    237\u001b[0m \u001b[1;33m\u001b[0m\u001b[0m\n\u001b[0;32m    238\u001b[0m   \u001b[1;32mdef\u001b[0m \u001b[0mpredict\u001b[0m\u001b[1;33m(\u001b[0m\u001b[0mself\u001b[0m\u001b[1;33m,\u001b[0m \u001b[0mx\u001b[0m\u001b[1;33m,\u001b[0m \u001b[1;33m**\u001b[0m\u001b[0mkwargs\u001b[0m\u001b[1;33m)\u001b[0m\u001b[1;33m:\u001b[0m\u001b[1;33m\u001b[0m\u001b[1;33m\u001b[0m\u001b[0m\n",
      "\u001b[1;32m~\\anaconda3\\lib\\site-packages\\keras\\wrappers\\scikit_learn.py\u001b[0m in \u001b[0;36mfit\u001b[1;34m(self, x, y, **kwargs)\u001b[0m\n\u001b[0;32m    162\u001b[0m     \u001b[0mfit_args\u001b[0m\u001b[1;33m.\u001b[0m\u001b[0mupdate\u001b[0m\u001b[1;33m(\u001b[0m\u001b[0mkwargs\u001b[0m\u001b[1;33m)\u001b[0m\u001b[1;33m\u001b[0m\u001b[1;33m\u001b[0m\u001b[0m\n\u001b[0;32m    163\u001b[0m \u001b[1;33m\u001b[0m\u001b[0m\n\u001b[1;32m--> 164\u001b[1;33m     \u001b[0mhistory\u001b[0m \u001b[1;33m=\u001b[0m \u001b[0mself\u001b[0m\u001b[1;33m.\u001b[0m\u001b[0mmodel\u001b[0m\u001b[1;33m.\u001b[0m\u001b[0mfit\u001b[0m\u001b[1;33m(\u001b[0m\u001b[0mx\u001b[0m\u001b[1;33m,\u001b[0m \u001b[0my\u001b[0m\u001b[1;33m,\u001b[0m \u001b[1;33m**\u001b[0m\u001b[0mfit_args\u001b[0m\u001b[1;33m)\u001b[0m\u001b[1;33m\u001b[0m\u001b[1;33m\u001b[0m\u001b[0m\n\u001b[0m\u001b[0;32m    165\u001b[0m \u001b[1;33m\u001b[0m\u001b[0m\n\u001b[0;32m    166\u001b[0m     \u001b[1;32mreturn\u001b[0m \u001b[0mhistory\u001b[0m\u001b[1;33m\u001b[0m\u001b[1;33m\u001b[0m\u001b[0m\n",
      "\u001b[1;32m~\\anaconda3\\lib\\site-packages\\keras\\utils\\traceback_utils.py\u001b[0m in \u001b[0;36merror_handler\u001b[1;34m(*args, **kwargs)\u001b[0m\n\u001b[0;32m     62\u001b[0m     \u001b[0mfiltered_tb\u001b[0m \u001b[1;33m=\u001b[0m \u001b[1;32mNone\u001b[0m\u001b[1;33m\u001b[0m\u001b[1;33m\u001b[0m\u001b[0m\n\u001b[0;32m     63\u001b[0m     \u001b[1;32mtry\u001b[0m\u001b[1;33m:\u001b[0m\u001b[1;33m\u001b[0m\u001b[1;33m\u001b[0m\u001b[0m\n\u001b[1;32m---> 64\u001b[1;33m       \u001b[1;32mreturn\u001b[0m \u001b[0mfn\u001b[0m\u001b[1;33m(\u001b[0m\u001b[1;33m*\u001b[0m\u001b[0margs\u001b[0m\u001b[1;33m,\u001b[0m \u001b[1;33m**\u001b[0m\u001b[0mkwargs\u001b[0m\u001b[1;33m)\u001b[0m\u001b[1;33m\u001b[0m\u001b[1;33m\u001b[0m\u001b[0m\n\u001b[0m\u001b[0;32m     65\u001b[0m     \u001b[1;32mexcept\u001b[0m \u001b[0mException\u001b[0m \u001b[1;32mas\u001b[0m \u001b[0me\u001b[0m\u001b[1;33m:\u001b[0m  \u001b[1;31m# pylint: disable=broad-except\u001b[0m\u001b[1;33m\u001b[0m\u001b[1;33m\u001b[0m\u001b[0m\n\u001b[0;32m     66\u001b[0m       \u001b[0mfiltered_tb\u001b[0m \u001b[1;33m=\u001b[0m \u001b[0m_process_traceback_frames\u001b[0m\u001b[1;33m(\u001b[0m\u001b[0me\u001b[0m\u001b[1;33m.\u001b[0m\u001b[0m__traceback__\u001b[0m\u001b[1;33m)\u001b[0m\u001b[1;33m\u001b[0m\u001b[1;33m\u001b[0m\u001b[0m\n",
      "\u001b[1;32m~\\anaconda3\\lib\\site-packages\\keras\\engine\\training.py\u001b[0m in \u001b[0;36mfit\u001b[1;34m(self, x, y, batch_size, epochs, verbose, callbacks, validation_split, validation_data, shuffle, class_weight, sample_weight, initial_epoch, steps_per_epoch, validation_steps, validation_batch_size, validation_freq, max_queue_size, workers, use_multiprocessing)\u001b[0m\n\u001b[0;32m   1374\u001b[0m         \u001b[0mcallbacks\u001b[0m\u001b[1;33m.\u001b[0m\u001b[0mon_epoch_begin\u001b[0m\u001b[1;33m(\u001b[0m\u001b[0mepoch\u001b[0m\u001b[1;33m)\u001b[0m\u001b[1;33m\u001b[0m\u001b[1;33m\u001b[0m\u001b[0m\n\u001b[0;32m   1375\u001b[0m         \u001b[1;32mwith\u001b[0m \u001b[0mdata_handler\u001b[0m\u001b[1;33m.\u001b[0m\u001b[0mcatch_stop_iteration\u001b[0m\u001b[1;33m(\u001b[0m\u001b[1;33m)\u001b[0m\u001b[1;33m:\u001b[0m\u001b[1;33m\u001b[0m\u001b[1;33m\u001b[0m\u001b[0m\n\u001b[1;32m-> 1376\u001b[1;33m           \u001b[1;32mfor\u001b[0m \u001b[0mstep\u001b[0m \u001b[1;32min\u001b[0m \u001b[0mdata_handler\u001b[0m\u001b[1;33m.\u001b[0m\u001b[0msteps\u001b[0m\u001b[1;33m(\u001b[0m\u001b[1;33m)\u001b[0m\u001b[1;33m:\u001b[0m\u001b[1;33m\u001b[0m\u001b[1;33m\u001b[0m\u001b[0m\n\u001b[0m\u001b[0;32m   1377\u001b[0m             with tf.profiler.experimental.Trace(\n\u001b[0;32m   1378\u001b[0m                 \u001b[1;34m'train'\u001b[0m\u001b[1;33m,\u001b[0m\u001b[1;33m\u001b[0m\u001b[1;33m\u001b[0m\u001b[0m\n",
      "\u001b[1;32m~\\anaconda3\\lib\\site-packages\\keras\\engine\\data_adapter.py\u001b[0m in \u001b[0;36msteps\u001b[1;34m(self)\u001b[0m\n\u001b[0;32m   1244\u001b[0m       \u001b[1;32mif\u001b[0m \u001b[0mself\u001b[0m\u001b[1;33m.\u001b[0m\u001b[0m_insufficient_data\u001b[0m\u001b[1;33m:\u001b[0m  \u001b[1;31m# Set by `catch_stop_iteration`.\u001b[0m\u001b[1;33m\u001b[0m\u001b[1;33m\u001b[0m\u001b[0m\n\u001b[0;32m   1245\u001b[0m         \u001b[1;32mbreak\u001b[0m\u001b[1;33m\u001b[0m\u001b[1;33m\u001b[0m\u001b[0m\n\u001b[1;32m-> 1246\u001b[1;33m       \u001b[0moriginal_spe\u001b[0m \u001b[1;33m=\u001b[0m \u001b[0mself\u001b[0m\u001b[1;33m.\u001b[0m\u001b[0m_steps_per_execution\u001b[0m\u001b[1;33m.\u001b[0m\u001b[0mnumpy\u001b[0m\u001b[1;33m(\u001b[0m\u001b[1;33m)\u001b[0m\u001b[1;33m.\u001b[0m\u001b[0mitem\u001b[0m\u001b[1;33m(\u001b[0m\u001b[1;33m)\u001b[0m\u001b[1;33m\u001b[0m\u001b[1;33m\u001b[0m\u001b[0m\n\u001b[0m\u001b[0;32m   1247\u001b[0m       can_run_full_execution = (\n\u001b[0;32m   1248\u001b[0m           \u001b[0moriginal_spe\u001b[0m \u001b[1;33m==\u001b[0m \u001b[1;36m1\u001b[0m \u001b[1;32mor\u001b[0m\u001b[1;33m\u001b[0m\u001b[1;33m\u001b[0m\u001b[0m\n",
      "\u001b[1;32m~\\anaconda3\\lib\\site-packages\\tensorflow\\python\\ops\\resource_variable_ops.py\u001b[0m in \u001b[0;36mnumpy\u001b[1;34m(self)\u001b[0m\n\u001b[0;32m    672\u001b[0m   \u001b[1;32mdef\u001b[0m \u001b[0mnumpy\u001b[0m\u001b[1;33m(\u001b[0m\u001b[0mself\u001b[0m\u001b[1;33m)\u001b[0m\u001b[1;33m:\u001b[0m\u001b[1;33m\u001b[0m\u001b[1;33m\u001b[0m\u001b[0m\n\u001b[0;32m    673\u001b[0m     \u001b[1;32mif\u001b[0m \u001b[0mcontext\u001b[0m\u001b[1;33m.\u001b[0m\u001b[0mexecuting_eagerly\u001b[0m\u001b[1;33m(\u001b[0m\u001b[1;33m)\u001b[0m\u001b[1;33m:\u001b[0m\u001b[1;33m\u001b[0m\u001b[1;33m\u001b[0m\u001b[0m\n\u001b[1;32m--> 674\u001b[1;33m       \u001b[1;32mreturn\u001b[0m \u001b[0mself\u001b[0m\u001b[1;33m.\u001b[0m\u001b[0mread_value\u001b[0m\u001b[1;33m(\u001b[0m\u001b[1;33m)\u001b[0m\u001b[1;33m.\u001b[0m\u001b[0mnumpy\u001b[0m\u001b[1;33m(\u001b[0m\u001b[1;33m)\u001b[0m\u001b[1;33m\u001b[0m\u001b[1;33m\u001b[0m\u001b[0m\n\u001b[0m\u001b[0;32m    675\u001b[0m     raise NotImplementedError(\n\u001b[0;32m    676\u001b[0m         \"numpy() is only available when eager execution is enabled.\")\n",
      "\u001b[1;32m~\\anaconda3\\lib\\site-packages\\tensorflow\\python\\ops\\resource_variable_ops.py\u001b[0m in \u001b[0;36mread_value\u001b[1;34m(self)\u001b[0m\n\u001b[0;32m    747\u001b[0m     \"\"\"\n\u001b[0;32m    748\u001b[0m     \u001b[1;32mwith\u001b[0m \u001b[0mops\u001b[0m\u001b[1;33m.\u001b[0m\u001b[0mname_scope\u001b[0m\u001b[1;33m(\u001b[0m\u001b[1;34m\"Read\"\u001b[0m\u001b[1;33m)\u001b[0m\u001b[1;33m:\u001b[0m\u001b[1;33m\u001b[0m\u001b[1;33m\u001b[0m\u001b[0m\n\u001b[1;32m--> 749\u001b[1;33m       \u001b[0mvalue\u001b[0m \u001b[1;33m=\u001b[0m \u001b[0mself\u001b[0m\u001b[1;33m.\u001b[0m\u001b[0m_read_variable_op\u001b[0m\u001b[1;33m(\u001b[0m\u001b[1;33m)\u001b[0m\u001b[1;33m\u001b[0m\u001b[1;33m\u001b[0m\u001b[0m\n\u001b[0m\u001b[0;32m    750\u001b[0m     \u001b[1;31m# Return an identity so it can get placed on whatever device the context\u001b[0m\u001b[1;33m\u001b[0m\u001b[1;33m\u001b[0m\u001b[0m\n\u001b[0;32m    751\u001b[0m     \u001b[1;31m# specifies instead of the device where the variable is.\u001b[0m\u001b[1;33m\u001b[0m\u001b[1;33m\u001b[0m\u001b[0m\n",
      "\u001b[1;32m~\\anaconda3\\lib\\site-packages\\tensorflow\\python\\ops\\resource_variable_ops.py\u001b[0m in \u001b[0;36m_read_variable_op\u001b[1;34m(self)\u001b[0m\n\u001b[0;32m    726\u001b[0m           \u001b[0mresult\u001b[0m \u001b[1;33m=\u001b[0m \u001b[0mread_and_set_handle\u001b[0m\u001b[1;33m(\u001b[0m\u001b[1;33m)\u001b[0m\u001b[1;33m\u001b[0m\u001b[1;33m\u001b[0m\u001b[0m\n\u001b[0;32m    727\u001b[0m     \u001b[1;32melse\u001b[0m\u001b[1;33m:\u001b[0m\u001b[1;33m\u001b[0m\u001b[1;33m\u001b[0m\u001b[0m\n\u001b[1;32m--> 728\u001b[1;33m       \u001b[0mresult\u001b[0m \u001b[1;33m=\u001b[0m \u001b[0mread_and_set_handle\u001b[0m\u001b[1;33m(\u001b[0m\u001b[1;33m)\u001b[0m\u001b[1;33m\u001b[0m\u001b[1;33m\u001b[0m\u001b[0m\n\u001b[0m\u001b[0;32m    729\u001b[0m \u001b[1;33m\u001b[0m\u001b[0m\n\u001b[0;32m    730\u001b[0m     \u001b[1;32mif\u001b[0m \u001b[1;32mnot\u001b[0m \u001b[0mcontext\u001b[0m\u001b[1;33m.\u001b[0m\u001b[0mexecuting_eagerly\u001b[0m\u001b[1;33m(\u001b[0m\u001b[1;33m)\u001b[0m\u001b[1;33m:\u001b[0m\u001b[1;33m\u001b[0m\u001b[1;33m\u001b[0m\u001b[0m\n",
      "\u001b[1;32m~\\anaconda3\\lib\\site-packages\\tensorflow\\python\\ops\\resource_variable_ops.py\u001b[0m in \u001b[0;36mread_and_set_handle\u001b[1;34m()\u001b[0m\n\u001b[0;32m    716\u001b[0m \u001b[1;33m\u001b[0m\u001b[0m\n\u001b[0;32m    717\u001b[0m     \u001b[1;32mdef\u001b[0m \u001b[0mread_and_set_handle\u001b[0m\u001b[1;33m(\u001b[0m\u001b[1;33m)\u001b[0m\u001b[1;33m:\u001b[0m\u001b[1;33m\u001b[0m\u001b[1;33m\u001b[0m\u001b[0m\n\u001b[1;32m--> 718\u001b[1;33m       result = gen_resource_variable_ops.read_variable_op(\n\u001b[0m\u001b[0;32m    719\u001b[0m           self.handle, self._dtype)\n\u001b[0;32m    720\u001b[0m       \u001b[0m_maybe_set_handle_data\u001b[0m\u001b[1;33m(\u001b[0m\u001b[0mself\u001b[0m\u001b[1;33m.\u001b[0m\u001b[0m_dtype\u001b[0m\u001b[1;33m,\u001b[0m \u001b[0mself\u001b[0m\u001b[1;33m.\u001b[0m\u001b[0mhandle\u001b[0m\u001b[1;33m,\u001b[0m \u001b[0mresult\u001b[0m\u001b[1;33m)\u001b[0m\u001b[1;33m\u001b[0m\u001b[1;33m\u001b[0m\u001b[0m\n",
      "\u001b[1;32m~\\anaconda3\\lib\\site-packages\\tensorflow\\python\\ops\\gen_resource_variable_ops.py\u001b[0m in \u001b[0;36mread_variable_op\u001b[1;34m(resource, dtype, name)\u001b[0m\n\u001b[0;32m    476\u001b[0m   \u001b[1;32mif\u001b[0m \u001b[0mtld\u001b[0m\u001b[1;33m.\u001b[0m\u001b[0mis_eager\u001b[0m\u001b[1;33m:\u001b[0m\u001b[1;33m\u001b[0m\u001b[1;33m\u001b[0m\u001b[0m\n\u001b[0;32m    477\u001b[0m     \u001b[1;32mtry\u001b[0m\u001b[1;33m:\u001b[0m\u001b[1;33m\u001b[0m\u001b[1;33m\u001b[0m\u001b[0m\n\u001b[1;32m--> 478\u001b[1;33m       _result = pywrap_tfe.TFE_Py_FastPathExecute(\n\u001b[0m\u001b[0;32m    479\u001b[0m         _ctx, \"ReadVariableOp\", name, resource, \"dtype\", dtype)\n\u001b[0;32m    480\u001b[0m       \u001b[1;32mreturn\u001b[0m \u001b[0m_result\u001b[0m\u001b[1;33m\u001b[0m\u001b[1;33m\u001b[0m\u001b[0m\n",
      "\u001b[1;31mKeyboardInterrupt\u001b[0m: "
     ]
    }
   ],
   "source": [
    "from sklearn.model_selection import cross_val_score\n",
    "results = cross_val_score(estimator, X, dummy_y, cv=kfold)\n",
    "print(\"Baseline: %.2f%% (%.2f%%)\" % (results.mean()*100, results.std()*100))"
   ]
  },
  {
   "cell_type": "markdown",
   "id": "7b390c2a",
   "metadata": {},
   "source": [
    "## Implementing Artificial Neural Network! -------- Verson 2 (Works Way Better)"
   ]
  },
  {
   "cell_type": "markdown",
   "id": "ebe35056",
   "metadata": {},
   "source": [
    "Following Classification From: https://www.analyticsvidhya.com/blog/2021/10/implementing-artificial-neural-networkclassification-in-python-from-scratch/"
   ]
  },
  {
   "cell_type": "code",
   "execution_count": 341,
   "id": "b8ee4d33",
   "metadata": {},
   "outputs": [],
   "source": [
    "X = data.drop(columns = ['class'])\n",
    "y = data['class']"
   ]
  },
  {
   "cell_type": "code",
   "execution_count": 342,
   "id": "01ff9efe",
   "metadata": {},
   "outputs": [],
   "source": [
    "from sklearn.preprocessing import LabelEncoder\n",
    "LE1 = LabelEncoder()\n",
    "y = np.array(LE1.fit_transform(y))"
   ]
  },
  {
   "cell_type": "code",
   "execution_count": 343,
   "id": "e1c3b10f",
   "metadata": {},
   "outputs": [],
   "source": [
    "X_train, X_test, y_train, y_test = train_test_split(X, y, test_size = 0.25)"
   ]
  },
  {
   "cell_type": "code",
   "execution_count": 344,
   "id": "7a408bce",
   "metadata": {},
   "outputs": [],
   "source": [
    "from sklearn.preprocessing import StandardScaler\n",
    "sc = StandardScaler()\n",
    "X_train = sc.fit_transform(X_train)\n",
    "X_test = sc.transform(X_test)"
   ]
  },
  {
   "cell_type": "code",
   "execution_count": 346,
   "id": "257ea1a5",
   "metadata": {},
   "outputs": [],
   "source": [
    "ann = tf.keras.models.Sequential()"
   ]
  },
  {
   "cell_type": "code",
   "execution_count": 347,
   "id": "2702ddca",
   "metadata": {},
   "outputs": [
    {
     "name": "stdout",
     "output_type": "stream",
     "text": [
      "Epoch 1/10\n",
      "2344/2344 [==============================] - 3s 1ms/step - loss: 0.4833 - accuracy: 0.8050 - val_loss: 0.2004 - val_accuracy: 0.9368\n",
      "Epoch 2/10\n",
      "2344/2344 [==============================] - 3s 1ms/step - loss: 0.2220 - accuracy: 0.9448 - val_loss: 0.1539 - val_accuracy: 0.9508\n",
      "Epoch 3/10\n",
      "2344/2344 [==============================] - 3s 1ms/step - loss: 0.1916 - accuracy: 0.9545 - val_loss: 0.1414 - val_accuracy: 0.9561\n",
      "Epoch 4/10\n",
      "2344/2344 [==============================] - 3s 1ms/step - loss: 0.1736 - accuracy: 0.9586 - val_loss: 0.1352 - val_accuracy: 0.9581\n",
      "Epoch 5/10\n",
      "2344/2344 [==============================] - 3s 1ms/step - loss: 0.1615 - accuracy: 0.9605 - val_loss: 0.1220 - val_accuracy: 0.9633\n",
      "Epoch 6/10\n",
      "2344/2344 [==============================] - 3s 1ms/step - loss: 0.1518 - accuracy: 0.9625 - val_loss: 0.1205 - val_accuracy: 0.9646\n",
      "Epoch 7/10\n",
      "2344/2344 [==============================] - 3s 1ms/step - loss: 0.1439 - accuracy: 0.9631 - val_loss: 0.1175 - val_accuracy: 0.9654\n",
      "Epoch 8/10\n",
      "2344/2344 [==============================] - 4s 2ms/step - loss: 0.1382 - accuracy: 0.9641 - val_loss: 0.1179 - val_accuracy: 0.9658\n",
      "Epoch 9/10\n",
      "2344/2344 [==============================] - 3s 1ms/step - loss: 0.1325 - accuracy: 0.9648 - val_loss: 0.1090 - val_accuracy: 0.9668\n",
      "Epoch 10/10\n",
      "2344/2344 [==============================] - 4s 2ms/step - loss: 0.1279 - accuracy: 0.9653 - val_loss: 0.1071 - val_accuracy: 0.9688\n"
     ]
    }
   ],
   "source": [
    "ann.add(tf.keras.layers.Dense(units=10,activation=\"relu\"))\n",
    "ann.add(tf.keras.layers.Dense(units=10,activation=\"relu\"))\n",
    "ann.add(tf.keras.layers.Dense(units=3,activation=\"softmax\"))\n",
    "ann.compile(optimizer=\"adam\",loss=\"sparse_categorical_crossentropy\",metrics=['accuracy'])\n",
    "history = ann.fit(X_train,y_train,batch_size=32,epochs = 10, validation_data = (X_test, y_test))"
   ]
  },
  {
   "cell_type": "markdown",
   "id": "b335ded7",
   "metadata": {},
   "source": [
    "# Analysis of Neural Network Results:"
   ]
  },
  {
   "cell_type": "markdown",
   "id": "fb60b019",
   "metadata": {},
   "source": [
    "Similarities: \n",
    "- Used Label Encoders for Y\n",
    "- Same Structure, Input layer: 10, 1st Hidden layer: 10, Output layer: 3\n",
    "- Relu and Softmax Activation Functions\n",
    "- Both use \"Accuracy\" as metric.\n",
    "- Both are model = Sequential()\n",
    "\n",
    "Differences:\n",
    "- Applied Standard Scaler to Model 2\n",
    "- Loss Function for model 1 was categorical_crossentropy, Loss Entropy for model 2 was sparse_categorical_crossentropy\n",
    "- Optimizer for model 1 is SGD(lr=0.1), Optimizer for model 2 is Adam\n",
    "- Batch size for model 1 is 5, Batch size for model 2 is 32\n",
    "\n",
    "\n",
    "Analysis: The second model performs significantly better than the first model. It starts at higher initial accuracy, learns better and generally runs faster than model 1. The validation accuracy for model 2 after 10 epochs is 96.88%, whereas the accuracy for model 1 plateaus at 60% and learns much slower. "
   ]
  }
 ],
 "metadata": {
  "kernelspec": {
   "display_name": "Python 3 (ipykernel)",
   "language": "python",
   "name": "python3"
  },
  "language_info": {
   "codemirror_mode": {
    "name": "ipython",
    "version": 3
   },
   "file_extension": ".py",
   "mimetype": "text/x-python",
   "name": "python",
   "nbconvert_exporter": "python",
   "pygments_lexer": "ipython3",
   "version": "3.9.7"
  }
 },
 "nbformat": 4,
 "nbformat_minor": 5
}
